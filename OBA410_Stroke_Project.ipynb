{
 "cells": [
  {
   "cell_type": "markdown",
   "metadata": {
    "id": "Squi3uxXqQW5"
   },
   "source": []
  },
  {
   "cell_type": "markdown",
   "metadata": {},
   "source": [
    "# Stroke Project"
   ]
  },
  {
   "cell_type": "code",
   "execution_count": 1,
   "metadata": {
    "id": "Rz63yL8U37I6"
   },
   "outputs": [],
   "source": [
    "import pandas as pd\n",
    "import numpy as np\n",
    "from sklearn.linear_model import LinearRegression\n",
    "from sklearn.model_selection import train_test_split, validation_curve\n",
    "from sklearn.neighbors import KNeighborsClassifier, KNeighborsRegressor\n",
    "from sklearn.preprocessing import MinMaxScaler\n",
    "from sklearn.tree import DecisionTreeClassifier, DecisionTreeRegressor"
   ]
  },
  {
   "cell_type": "code",
   "execution_count": 2,
   "metadata": {
    "colab": {
     "base_uri": "https://localhost:8080/",
     "height": 455
    },
    "id": "_LfzLuNZ_C8r",
    "outputId": "8d945630-1a15-4717-f0c5-0152db65bb49"
   },
   "outputs": [
    {
     "data": {
      "text/html": [
       "<div>\n",
       "<style scoped>\n",
       "    .dataframe tbody tr th:only-of-type {\n",
       "        vertical-align: middle;\n",
       "    }\n",
       "\n",
       "    .dataframe tbody tr th {\n",
       "        vertical-align: top;\n",
       "    }\n",
       "\n",
       "    .dataframe thead th {\n",
       "        text-align: right;\n",
       "    }\n",
       "</style>\n",
       "<table border=\"1\" class=\"dataframe\">\n",
       "  <thead>\n",
       "    <tr style=\"text-align: right;\">\n",
       "      <th></th>\n",
       "      <th>gender</th>\n",
       "      <th>age</th>\n",
       "      <th>hypertension</th>\n",
       "      <th>heart_disease</th>\n",
       "      <th>ever_married</th>\n",
       "      <th>work_type</th>\n",
       "      <th>Residence_type</th>\n",
       "      <th>avg_glucose_level</th>\n",
       "      <th>bmi</th>\n",
       "      <th>smoking_status</th>\n",
       "      <th>stroke</th>\n",
       "    </tr>\n",
       "    <tr>\n",
       "      <th>id</th>\n",
       "      <th></th>\n",
       "      <th></th>\n",
       "      <th></th>\n",
       "      <th></th>\n",
       "      <th></th>\n",
       "      <th></th>\n",
       "      <th></th>\n",
       "      <th></th>\n",
       "      <th></th>\n",
       "      <th></th>\n",
       "      <th></th>\n",
       "    </tr>\n",
       "  </thead>\n",
       "  <tbody>\n",
       "    <tr>\n",
       "      <th>9046</th>\n",
       "      <td>Male</td>\n",
       "      <td>67.0</td>\n",
       "      <td>0</td>\n",
       "      <td>1</td>\n",
       "      <td>Yes</td>\n",
       "      <td>Private</td>\n",
       "      <td>Urban</td>\n",
       "      <td>228.69</td>\n",
       "      <td>36.6</td>\n",
       "      <td>formerly smoked</td>\n",
       "      <td>1</td>\n",
       "    </tr>\n",
       "    <tr>\n",
       "      <th>51676</th>\n",
       "      <td>Female</td>\n",
       "      <td>61.0</td>\n",
       "      <td>0</td>\n",
       "      <td>0</td>\n",
       "      <td>Yes</td>\n",
       "      <td>Self-employed</td>\n",
       "      <td>Rural</td>\n",
       "      <td>202.21</td>\n",
       "      <td>NaN</td>\n",
       "      <td>never smoked</td>\n",
       "      <td>1</td>\n",
       "    </tr>\n",
       "    <tr>\n",
       "      <th>31112</th>\n",
       "      <td>Male</td>\n",
       "      <td>80.0</td>\n",
       "      <td>0</td>\n",
       "      <td>1</td>\n",
       "      <td>Yes</td>\n",
       "      <td>Private</td>\n",
       "      <td>Rural</td>\n",
       "      <td>105.92</td>\n",
       "      <td>32.5</td>\n",
       "      <td>never smoked</td>\n",
       "      <td>1</td>\n",
       "    </tr>\n",
       "    <tr>\n",
       "      <th>60182</th>\n",
       "      <td>Female</td>\n",
       "      <td>49.0</td>\n",
       "      <td>0</td>\n",
       "      <td>0</td>\n",
       "      <td>Yes</td>\n",
       "      <td>Private</td>\n",
       "      <td>Urban</td>\n",
       "      <td>171.23</td>\n",
       "      <td>34.4</td>\n",
       "      <td>smokes</td>\n",
       "      <td>1</td>\n",
       "    </tr>\n",
       "    <tr>\n",
       "      <th>1665</th>\n",
       "      <td>Female</td>\n",
       "      <td>79.0</td>\n",
       "      <td>1</td>\n",
       "      <td>0</td>\n",
       "      <td>Yes</td>\n",
       "      <td>Self-employed</td>\n",
       "      <td>Rural</td>\n",
       "      <td>174.12</td>\n",
       "      <td>24.0</td>\n",
       "      <td>never smoked</td>\n",
       "      <td>1</td>\n",
       "    </tr>\n",
       "    <tr>\n",
       "      <th>...</th>\n",
       "      <td>...</td>\n",
       "      <td>...</td>\n",
       "      <td>...</td>\n",
       "      <td>...</td>\n",
       "      <td>...</td>\n",
       "      <td>...</td>\n",
       "      <td>...</td>\n",
       "      <td>...</td>\n",
       "      <td>...</td>\n",
       "      <td>...</td>\n",
       "      <td>...</td>\n",
       "    </tr>\n",
       "    <tr>\n",
       "      <th>18234</th>\n",
       "      <td>Female</td>\n",
       "      <td>80.0</td>\n",
       "      <td>1</td>\n",
       "      <td>0</td>\n",
       "      <td>Yes</td>\n",
       "      <td>Private</td>\n",
       "      <td>Urban</td>\n",
       "      <td>83.75</td>\n",
       "      <td>NaN</td>\n",
       "      <td>never smoked</td>\n",
       "      <td>0</td>\n",
       "    </tr>\n",
       "    <tr>\n",
       "      <th>44873</th>\n",
       "      <td>Female</td>\n",
       "      <td>81.0</td>\n",
       "      <td>0</td>\n",
       "      <td>0</td>\n",
       "      <td>Yes</td>\n",
       "      <td>Self-employed</td>\n",
       "      <td>Urban</td>\n",
       "      <td>125.20</td>\n",
       "      <td>40.0</td>\n",
       "      <td>never smoked</td>\n",
       "      <td>0</td>\n",
       "    </tr>\n",
       "    <tr>\n",
       "      <th>19723</th>\n",
       "      <td>Female</td>\n",
       "      <td>35.0</td>\n",
       "      <td>0</td>\n",
       "      <td>0</td>\n",
       "      <td>Yes</td>\n",
       "      <td>Self-employed</td>\n",
       "      <td>Rural</td>\n",
       "      <td>82.99</td>\n",
       "      <td>30.6</td>\n",
       "      <td>never smoked</td>\n",
       "      <td>0</td>\n",
       "    </tr>\n",
       "    <tr>\n",
       "      <th>37544</th>\n",
       "      <td>Male</td>\n",
       "      <td>51.0</td>\n",
       "      <td>0</td>\n",
       "      <td>0</td>\n",
       "      <td>Yes</td>\n",
       "      <td>Private</td>\n",
       "      <td>Rural</td>\n",
       "      <td>166.29</td>\n",
       "      <td>25.6</td>\n",
       "      <td>formerly smoked</td>\n",
       "      <td>0</td>\n",
       "    </tr>\n",
       "    <tr>\n",
       "      <th>44679</th>\n",
       "      <td>Female</td>\n",
       "      <td>44.0</td>\n",
       "      <td>0</td>\n",
       "      <td>0</td>\n",
       "      <td>Yes</td>\n",
       "      <td>Govt_job</td>\n",
       "      <td>Urban</td>\n",
       "      <td>85.28</td>\n",
       "      <td>26.2</td>\n",
       "      <td>Unknown</td>\n",
       "      <td>0</td>\n",
       "    </tr>\n",
       "  </tbody>\n",
       "</table>\n",
       "<p>5110 rows × 11 columns</p>\n",
       "</div>"
      ],
      "text/plain": [
       "       gender   age  hypertension  heart_disease ever_married      work_type  \\\n",
       "id                                                                             \n",
       "9046     Male  67.0             0              1          Yes        Private   \n",
       "51676  Female  61.0             0              0          Yes  Self-employed   \n",
       "31112    Male  80.0             0              1          Yes        Private   \n",
       "60182  Female  49.0             0              0          Yes        Private   \n",
       "1665   Female  79.0             1              0          Yes  Self-employed   \n",
       "...       ...   ...           ...            ...          ...            ...   \n",
       "18234  Female  80.0             1              0          Yes        Private   \n",
       "44873  Female  81.0             0              0          Yes  Self-employed   \n",
       "19723  Female  35.0             0              0          Yes  Self-employed   \n",
       "37544    Male  51.0             0              0          Yes        Private   \n",
       "44679  Female  44.0             0              0          Yes       Govt_job   \n",
       "\n",
       "      Residence_type  avg_glucose_level   bmi   smoking_status  stroke  \n",
       "id                                                                      \n",
       "9046           Urban             228.69  36.6  formerly smoked       1  \n",
       "51676          Rural             202.21   NaN     never smoked       1  \n",
       "31112          Rural             105.92  32.5     never smoked       1  \n",
       "60182          Urban             171.23  34.4           smokes       1  \n",
       "1665           Rural             174.12  24.0     never smoked       1  \n",
       "...              ...                ...   ...              ...     ...  \n",
       "18234          Urban              83.75   NaN     never smoked       0  \n",
       "44873          Urban             125.20  40.0     never smoked       0  \n",
       "19723          Rural              82.99  30.6     never smoked       0  \n",
       "37544          Rural             166.29  25.6  formerly smoked       0  \n",
       "44679          Urban              85.28  26.2          Unknown       0  \n",
       "\n",
       "[5110 rows x 11 columns]"
      ]
     },
     "execution_count": 2,
     "metadata": {},
     "output_type": "execute_result"
    }
   ],
   "source": [
    "# reading the data\n",
    "stroke_df=pd.read_csv('healthcare-dataset-stroke-data.csv',index_col=0)\n",
    "stroke_df"
   ]
  },
  {
   "cell_type": "code",
   "execution_count": 3,
   "metadata": {
    "colab": {
     "base_uri": "https://localhost:8080/"
    },
    "id": "kUhlGFaUAEO7",
    "outputId": "41024440-e5d7-4bc2-86a8-a3af2aafd5fc"
   },
   "outputs": [
    {
     "data": {
      "text/plain": [
       "0    4861\n",
       "1     249\n",
       "Name: stroke, dtype: int64"
      ]
     },
     "execution_count": 3,
     "metadata": {},
     "output_type": "execute_result"
    }
   ],
   "source": [
    "stroke_df['stroke'].value_counts()"
   ]
  },
  {
   "cell_type": "code",
   "execution_count": 4,
   "metadata": {
    "id": "7lhDcqVvAG17"
   },
   "outputs": [],
   "source": [
    "# undersample for majority class (random sample)\n",
    "# for minority class: oversampling - we randomly regenerate some existing records\n",
    "# n = 1000 for 0 and n=1000 for 1, and for 1 will be repeated values"
   ]
  },
  {
   "cell_type": "code",
   "execution_count": 5,
   "metadata": {
    "colab": {
     "base_uri": "https://localhost:8080/",
     "height": 112
    },
    "id": "AhhsNes7AIhq",
    "outputId": "ff677f52-8b6b-4e2f-cf6e-5fc6be8f6b19"
   },
   "outputs": [
    {
     "data": {
      "text/html": [
       "<div>\n",
       "<style scoped>\n",
       "    .dataframe tbody tr th:only-of-type {\n",
       "        vertical-align: middle;\n",
       "    }\n",
       "\n",
       "    .dataframe tbody tr th {\n",
       "        vertical-align: top;\n",
       "    }\n",
       "\n",
       "    .dataframe thead th {\n",
       "        text-align: right;\n",
       "    }\n",
       "</style>\n",
       "<table border=\"1\" class=\"dataframe\">\n",
       "  <thead>\n",
       "    <tr style=\"text-align: right;\">\n",
       "      <th></th>\n",
       "      <th>gender</th>\n",
       "      <th>age</th>\n",
       "      <th>hypertension</th>\n",
       "      <th>heart_disease</th>\n",
       "      <th>ever_married</th>\n",
       "      <th>work_type</th>\n",
       "      <th>Residence_type</th>\n",
       "      <th>avg_glucose_level</th>\n",
       "      <th>bmi</th>\n",
       "      <th>smoking_status</th>\n",
       "      <th>stroke</th>\n",
       "    </tr>\n",
       "    <tr>\n",
       "      <th>id</th>\n",
       "      <th></th>\n",
       "      <th></th>\n",
       "      <th></th>\n",
       "      <th></th>\n",
       "      <th></th>\n",
       "      <th></th>\n",
       "      <th></th>\n",
       "      <th></th>\n",
       "      <th></th>\n",
       "      <th></th>\n",
       "      <th></th>\n",
       "    </tr>\n",
       "  </thead>\n",
       "  <tbody>\n",
       "    <tr>\n",
       "      <th>25199</th>\n",
       "      <td>Female</td>\n",
       "      <td>80.0</td>\n",
       "      <td>0</td>\n",
       "      <td>0</td>\n",
       "      <td>Yes</td>\n",
       "      <td>Private</td>\n",
       "      <td>Rural</td>\n",
       "      <td>71.88</td>\n",
       "      <td>26.7</td>\n",
       "      <td>never smoked</td>\n",
       "      <td>0</td>\n",
       "    </tr>\n",
       "  </tbody>\n",
       "</table>\n",
       "</div>"
      ],
      "text/plain": [
       "       gender   age  hypertension  heart_disease ever_married work_type  \\\n",
       "id                                                                        \n",
       "25199  Female  80.0             0              0          Yes   Private   \n",
       "\n",
       "      Residence_type  avg_glucose_level   bmi smoking_status  stroke  \n",
       "id                                                                    \n",
       "25199          Rural              71.88  26.7   never smoked       0  "
      ]
     },
     "execution_count": 5,
     "metadata": {},
     "output_type": "execute_result"
    }
   ],
   "source": [
    "stroke_df.sample()"
   ]
  },
  {
   "cell_type": "code",
   "execution_count": 6,
   "metadata": {
    "id": "v6IUw6M3AK2Q"
   },
   "outputs": [],
   "source": [
    "stroke_df_bal=stroke_df.groupby('stroke',group_keys=False).apply(lambda x: x.sample(1000,replace=True,random_state=0))"
   ]
  },
  {
   "cell_type": "code",
   "execution_count": 7,
   "metadata": {
    "colab": {
     "base_uri": "https://localhost:8080/"
    },
    "id": "h8X8oFGwANVR",
    "outputId": "d094ba6b-e3f5-4af2-9f01-74f2c94f4e1b"
   },
   "outputs": [
    {
     "data": {
      "text/plain": [
       "0    1000\n",
       "1    1000\n",
       "Name: stroke, dtype: int64"
      ]
     },
     "execution_count": 7,
     "metadata": {},
     "output_type": "execute_result"
    }
   ],
   "source": [
    "stroke_df_bal['stroke'].value_counts()"
   ]
  },
  {
   "cell_type": "code",
   "execution_count": 8,
   "metadata": {
    "colab": {
     "base_uri": "https://localhost:8080/"
    },
    "id": "sE40CHOiwVNa",
    "outputId": "f9451512-fd84-4b53-aaae-b16793926932"
   },
   "outputs": [
    {
     "data": {
      "text/plain": [
       "gender               False\n",
       "age                  False\n",
       "hypertension         False\n",
       "heart_disease        False\n",
       "ever_married         False\n",
       "work_type            False\n",
       "Residence_type       False\n",
       "avg_glucose_level    False\n",
       "bmi                   True\n",
       "smoking_status       False\n",
       "stroke               False\n",
       "dtype: bool"
      ]
     },
     "execution_count": 8,
     "metadata": {},
     "output_type": "execute_result"
    }
   ],
   "source": [
    "stroke_df_bal.isnull().any()"
   ]
  },
  {
   "cell_type": "code",
   "execution_count": 9,
   "metadata": {
    "colab": {
     "base_uri": "https://localhost:8080/",
     "height": 511
    },
    "id": "eZMLgltPzInQ",
    "outputId": "6444e3a4-0cdf-4122-9a03-1e0602fe23e0"
   },
   "outputs": [
    {
     "name": "stderr",
     "output_type": "stream",
     "text": [
      "/var/folders/xj/pm39t27j2q9g70lf041mbs5h0000gp/T/ipykernel_66935/1882437825.py:2: FutureWarning: Dropping of nuisance columns in DataFrame reductions (with 'numeric_only=None') is deprecated; in a future version this will raise TypeError.  Select only valid columns before calling the reduction.\n",
      "  stroke_df_bal.fillna(value=stroke_df_bal.mean(),inplace=True)\n"
     ]
    },
    {
     "data": {
      "text/html": [
       "<div>\n",
       "<style scoped>\n",
       "    .dataframe tbody tr th:only-of-type {\n",
       "        vertical-align: middle;\n",
       "    }\n",
       "\n",
       "    .dataframe tbody tr th {\n",
       "        vertical-align: top;\n",
       "    }\n",
       "\n",
       "    .dataframe thead th {\n",
       "        text-align: right;\n",
       "    }\n",
       "</style>\n",
       "<table border=\"1\" class=\"dataframe\">\n",
       "  <thead>\n",
       "    <tr style=\"text-align: right;\">\n",
       "      <th></th>\n",
       "      <th>gender</th>\n",
       "      <th>age</th>\n",
       "      <th>hypertension</th>\n",
       "      <th>heart_disease</th>\n",
       "      <th>ever_married</th>\n",
       "      <th>work_type</th>\n",
       "      <th>Residence_type</th>\n",
       "      <th>avg_glucose_level</th>\n",
       "      <th>bmi</th>\n",
       "      <th>smoking_status</th>\n",
       "      <th>stroke</th>\n",
       "    </tr>\n",
       "    <tr>\n",
       "      <th>id</th>\n",
       "      <th></th>\n",
       "      <th></th>\n",
       "      <th></th>\n",
       "      <th></th>\n",
       "      <th></th>\n",
       "      <th></th>\n",
       "      <th></th>\n",
       "      <th></th>\n",
       "      <th></th>\n",
       "      <th></th>\n",
       "      <th></th>\n",
       "    </tr>\n",
       "  </thead>\n",
       "  <tbody>\n",
       "    <tr>\n",
       "      <th>69329</th>\n",
       "      <td>Female</td>\n",
       "      <td>62.00</td>\n",
       "      <td>0</td>\n",
       "      <td>0</td>\n",
       "      <td>Yes</td>\n",
       "      <td>Private</td>\n",
       "      <td>Rural</td>\n",
       "      <td>203.57</td>\n",
       "      <td>29.100000</td>\n",
       "      <td>Unknown</td>\n",
       "      <td>0</td>\n",
       "    </tr>\n",
       "    <tr>\n",
       "      <th>58833</th>\n",
       "      <td>Male</td>\n",
       "      <td>14.00</td>\n",
       "      <td>0</td>\n",
       "      <td>0</td>\n",
       "      <td>No</td>\n",
       "      <td>Private</td>\n",
       "      <td>Rural</td>\n",
       "      <td>61.04</td>\n",
       "      <td>17.600000</td>\n",
       "      <td>Unknown</td>\n",
       "      <td>0</td>\n",
       "    </tr>\n",
       "    <tr>\n",
       "      <th>67942</th>\n",
       "      <td>Male</td>\n",
       "      <td>21.00</td>\n",
       "      <td>0</td>\n",
       "      <td>0</td>\n",
       "      <td>No</td>\n",
       "      <td>Private</td>\n",
       "      <td>Rural</td>\n",
       "      <td>65.09</td>\n",
       "      <td>23.500000</td>\n",
       "      <td>never smoked</td>\n",
       "      <td>0</td>\n",
       "    </tr>\n",
       "    <tr>\n",
       "      <th>67411</th>\n",
       "      <td>Male</td>\n",
       "      <td>29.00</td>\n",
       "      <td>0</td>\n",
       "      <td>0</td>\n",
       "      <td>No</td>\n",
       "      <td>Private</td>\n",
       "      <td>Rural</td>\n",
       "      <td>105.73</td>\n",
       "      <td>28.200000</td>\n",
       "      <td>smokes</td>\n",
       "      <td>0</td>\n",
       "    </tr>\n",
       "    <tr>\n",
       "      <th>37544</th>\n",
       "      <td>Male</td>\n",
       "      <td>51.00</td>\n",
       "      <td>0</td>\n",
       "      <td>0</td>\n",
       "      <td>Yes</td>\n",
       "      <td>Private</td>\n",
       "      <td>Rural</td>\n",
       "      <td>166.29</td>\n",
       "      <td>25.600000</td>\n",
       "      <td>formerly smoked</td>\n",
       "      <td>0</td>\n",
       "    </tr>\n",
       "    <tr>\n",
       "      <th>...</th>\n",
       "      <td>...</td>\n",
       "      <td>...</td>\n",
       "      <td>...</td>\n",
       "      <td>...</td>\n",
       "      <td>...</td>\n",
       "      <td>...</td>\n",
       "      <td>...</td>\n",
       "      <td>...</td>\n",
       "      <td>...</td>\n",
       "      <td>...</td>\n",
       "      <td>...</td>\n",
       "    </tr>\n",
       "    <tr>\n",
       "      <th>4639</th>\n",
       "      <td>Female</td>\n",
       "      <td>69.00</td>\n",
       "      <td>0</td>\n",
       "      <td>0</td>\n",
       "      <td>Yes</td>\n",
       "      <td>Govt_job</td>\n",
       "      <td>Urban</td>\n",
       "      <td>82.81</td>\n",
       "      <td>28.000000</td>\n",
       "      <td>never smoked</td>\n",
       "      <td>1</td>\n",
       "    </tr>\n",
       "    <tr>\n",
       "      <th>41081</th>\n",
       "      <td>Male</td>\n",
       "      <td>63.00</td>\n",
       "      <td>0</td>\n",
       "      <td>0</td>\n",
       "      <td>Yes</td>\n",
       "      <td>Private</td>\n",
       "      <td>Rural</td>\n",
       "      <td>137.30</td>\n",
       "      <td>31.700000</td>\n",
       "      <td>formerly smoked</td>\n",
       "      <td>1</td>\n",
       "    </tr>\n",
       "    <tr>\n",
       "      <th>18937</th>\n",
       "      <td>Male</td>\n",
       "      <td>79.00</td>\n",
       "      <td>0</td>\n",
       "      <td>0</td>\n",
       "      <td>Yes</td>\n",
       "      <td>Private</td>\n",
       "      <td>Rural</td>\n",
       "      <td>114.77</td>\n",
       "      <td>29.440033</td>\n",
       "      <td>formerly smoked</td>\n",
       "      <td>1</td>\n",
       "    </tr>\n",
       "    <tr>\n",
       "      <th>62861</th>\n",
       "      <td>Female</td>\n",
       "      <td>78.00</td>\n",
       "      <td>0</td>\n",
       "      <td>0</td>\n",
       "      <td>Yes</td>\n",
       "      <td>Private</td>\n",
       "      <td>Urban</td>\n",
       "      <td>67.29</td>\n",
       "      <td>24.600000</td>\n",
       "      <td>never smoked</td>\n",
       "      <td>1</td>\n",
       "    </tr>\n",
       "    <tr>\n",
       "      <th>69768</th>\n",
       "      <td>Female</td>\n",
       "      <td>1.32</td>\n",
       "      <td>0</td>\n",
       "      <td>0</td>\n",
       "      <td>No</td>\n",
       "      <td>children</td>\n",
       "      <td>Urban</td>\n",
       "      <td>70.37</td>\n",
       "      <td>29.440033</td>\n",
       "      <td>Unknown</td>\n",
       "      <td>1</td>\n",
       "    </tr>\n",
       "  </tbody>\n",
       "</table>\n",
       "<p>2000 rows × 11 columns</p>\n",
       "</div>"
      ],
      "text/plain": [
       "       gender    age  hypertension  heart_disease ever_married work_type  \\\n",
       "id                                                                         \n",
       "69329  Female  62.00             0              0          Yes   Private   \n",
       "58833    Male  14.00             0              0           No   Private   \n",
       "67942    Male  21.00             0              0           No   Private   \n",
       "67411    Male  29.00             0              0           No   Private   \n",
       "37544    Male  51.00             0              0          Yes   Private   \n",
       "...       ...    ...           ...            ...          ...       ...   \n",
       "4639   Female  69.00             0              0          Yes  Govt_job   \n",
       "41081    Male  63.00             0              0          Yes   Private   \n",
       "18937    Male  79.00             0              0          Yes   Private   \n",
       "62861  Female  78.00             0              0          Yes   Private   \n",
       "69768  Female   1.32             0              0           No  children   \n",
       "\n",
       "      Residence_type  avg_glucose_level        bmi   smoking_status  stroke  \n",
       "id                                                                           \n",
       "69329          Rural             203.57  29.100000          Unknown       0  \n",
       "58833          Rural              61.04  17.600000          Unknown       0  \n",
       "67942          Rural              65.09  23.500000     never smoked       0  \n",
       "67411          Rural             105.73  28.200000           smokes       0  \n",
       "37544          Rural             166.29  25.600000  formerly smoked       0  \n",
       "...              ...                ...        ...              ...     ...  \n",
       "4639           Urban              82.81  28.000000     never smoked       1  \n",
       "41081          Rural             137.30  31.700000  formerly smoked       1  \n",
       "18937          Rural             114.77  29.440033  formerly smoked       1  \n",
       "62861          Urban              67.29  24.600000     never smoked       1  \n",
       "69768          Urban              70.37  29.440033          Unknown       1  \n",
       "\n",
       "[2000 rows x 11 columns]"
      ]
     },
     "execution_count": 9,
     "metadata": {},
     "output_type": "execute_result"
    }
   ],
   "source": [
    "# filling missing values with mean\n",
    "stroke_df_bal.fillna(value=stroke_df_bal.mean(),inplace=True)\n",
    "stroke_df_bal"
   ]
  },
  {
   "cell_type": "code",
   "execution_count": 10,
   "metadata": {
    "colab": {
     "base_uri": "https://localhost:8080/"
    },
    "id": "pqZ4dY4Rz2vy",
    "outputId": "fe1850c7-db25-40ea-9875-9292eedd0609"
   },
   "outputs": [
    {
     "data": {
      "text/plain": [
       "gender               False\n",
       "age                  False\n",
       "hypertension         False\n",
       "heart_disease        False\n",
       "ever_married         False\n",
       "work_type            False\n",
       "Residence_type       False\n",
       "avg_glucose_level    False\n",
       "bmi                  False\n",
       "smoking_status       False\n",
       "stroke               False\n",
       "dtype: bool"
      ]
     },
     "execution_count": 10,
     "metadata": {},
     "output_type": "execute_result"
    }
   ],
   "source": [
    "# checking for null values\n",
    "stroke_df_bal.isnull().any()"
   ]
  },
  {
   "cell_type": "code",
   "execution_count": 11,
   "metadata": {
    "colab": {
     "base_uri": "https://localhost:8080/",
     "height": 215
    },
    "id": "erzPnK5JAZNk",
    "outputId": "4ecd0ebc-2d87-4345-a141-f3e21d7935f2"
   },
   "outputs": [
    {
     "data": {
      "text/html": [
       "<div>\n",
       "<style scoped>\n",
       "    .dataframe tbody tr th:only-of-type {\n",
       "        vertical-align: middle;\n",
       "    }\n",
       "\n",
       "    .dataframe tbody tr th {\n",
       "        vertical-align: top;\n",
       "    }\n",
       "\n",
       "    .dataframe thead th {\n",
       "        text-align: right;\n",
       "    }\n",
       "</style>\n",
       "<table border=\"1\" class=\"dataframe\">\n",
       "  <thead>\n",
       "    <tr style=\"text-align: right;\">\n",
       "      <th></th>\n",
       "      <th>gender</th>\n",
       "      <th>age</th>\n",
       "      <th>hypertension</th>\n",
       "      <th>heart_disease</th>\n",
       "      <th>ever_married</th>\n",
       "      <th>work_type</th>\n",
       "      <th>Residence_type</th>\n",
       "      <th>avg_glucose_level</th>\n",
       "      <th>bmi</th>\n",
       "      <th>smoking_status</th>\n",
       "    </tr>\n",
       "    <tr>\n",
       "      <th>id</th>\n",
       "      <th></th>\n",
       "      <th></th>\n",
       "      <th></th>\n",
       "      <th></th>\n",
       "      <th></th>\n",
       "      <th></th>\n",
       "      <th></th>\n",
       "      <th></th>\n",
       "      <th></th>\n",
       "      <th></th>\n",
       "    </tr>\n",
       "  </thead>\n",
       "  <tbody>\n",
       "    <tr>\n",
       "      <th>69329</th>\n",
       "      <td>Female</td>\n",
       "      <td>62.0</td>\n",
       "      <td>0</td>\n",
       "      <td>0</td>\n",
       "      <td>Yes</td>\n",
       "      <td>Private</td>\n",
       "      <td>Rural</td>\n",
       "      <td>203.57</td>\n",
       "      <td>29.1</td>\n",
       "      <td>Unknown</td>\n",
       "    </tr>\n",
       "    <tr>\n",
       "      <th>58833</th>\n",
       "      <td>Male</td>\n",
       "      <td>14.0</td>\n",
       "      <td>0</td>\n",
       "      <td>0</td>\n",
       "      <td>No</td>\n",
       "      <td>Private</td>\n",
       "      <td>Rural</td>\n",
       "      <td>61.04</td>\n",
       "      <td>17.6</td>\n",
       "      <td>Unknown</td>\n",
       "    </tr>\n",
       "  </tbody>\n",
       "</table>\n",
       "</div>"
      ],
      "text/plain": [
       "       gender   age  hypertension  heart_disease ever_married work_type  \\\n",
       "id                                                                        \n",
       "69329  Female  62.0             0              0          Yes   Private   \n",
       "58833    Male  14.0             0              0           No   Private   \n",
       "\n",
       "      Residence_type  avg_glucose_level   bmi smoking_status  \n",
       "id                                                            \n",
       "69329          Rural             203.57  29.1        Unknown  \n",
       "58833          Rural              61.04  17.6        Unknown  "
      ]
     },
     "metadata": {},
     "output_type": "display_data"
    },
    {
     "data": {
      "text/plain": [
       "id\n",
       "69329    0\n",
       "58833    0\n",
       "Name: stroke, dtype: int64"
      ]
     },
     "metadata": {},
     "output_type": "display_data"
    }
   ],
   "source": [
    "# creating features and target sets\n",
    "X_stroke_df_bal,y_stroke_df_bal=stroke_df_bal.iloc[:,:-1],stroke_df_bal['stroke']\n",
    "# checking work\n",
    "display(X_stroke_df_bal.head(2))\n",
    "display(y_stroke_df_bal.head(2))"
   ]
  },
  {
   "cell_type": "code",
   "execution_count": 12,
   "metadata": {
    "colab": {
     "base_uri": "https://localhost:8080/"
    },
    "id": "Q4zReq_apCRr",
    "outputId": "20fad25a-2334-4a4e-d409-ab1dd8c1373c"
   },
   "outputs": [
    {
     "data": {
      "text/plain": [
       "gender                object\n",
       "age                  float64\n",
       "hypertension          object\n",
       "heart_disease         object\n",
       "ever_married          object\n",
       "work_type             object\n",
       "Residence_type        object\n",
       "avg_glucose_level    float64\n",
       "bmi                  float64\n",
       "smoking_status        object\n",
       "stroke                 int64\n",
       "dtype: object"
      ]
     },
     "execution_count": 12,
     "metadata": {},
     "output_type": "execute_result"
    }
   ],
   "source": [
    "# converting features from int64 to str\n",
    "stroke_df_bal['hypertension']=stroke_df_bal['hypertension'].astype(str)\n",
    "stroke_df_bal['heart_disease']=stroke_df_bal['heart_disease'].astype(str)\n",
    "stroke_df_bal.dtypes"
   ]
  },
  {
   "cell_type": "code",
   "execution_count": 13,
   "metadata": {
    "colab": {
     "base_uri": "https://localhost:8080/",
     "height": 254
    },
    "id": "aplKx3p8fEx6",
    "outputId": "3c2000ce-15f5-40f6-8cff-1a87a943b3fc"
   },
   "outputs": [
    {
     "data": {
      "text/html": [
       "<div>\n",
       "<style scoped>\n",
       "    .dataframe tbody tr th:only-of-type {\n",
       "        vertical-align: middle;\n",
       "    }\n",
       "\n",
       "    .dataframe tbody tr th {\n",
       "        vertical-align: top;\n",
       "    }\n",
       "\n",
       "    .dataframe thead th {\n",
       "        text-align: right;\n",
       "    }\n",
       "</style>\n",
       "<table border=\"1\" class=\"dataframe\">\n",
       "  <thead>\n",
       "    <tr style=\"text-align: right;\">\n",
       "      <th></th>\n",
       "      <th>age</th>\n",
       "      <th>avg_glucose_level</th>\n",
       "      <th>bmi</th>\n",
       "      <th>gender_Female</th>\n",
       "      <th>gender_Male</th>\n",
       "      <th>gender_Other</th>\n",
       "      <th>hypertension_0</th>\n",
       "      <th>hypertension_1</th>\n",
       "      <th>heart_disease_0</th>\n",
       "      <th>heart_disease_1</th>\n",
       "      <th>...</th>\n",
       "      <th>work_type_Never_worked</th>\n",
       "      <th>work_type_Private</th>\n",
       "      <th>work_type_Self-employed</th>\n",
       "      <th>work_type_children</th>\n",
       "      <th>Residence_type_Rural</th>\n",
       "      <th>Residence_type_Urban</th>\n",
       "      <th>smoking_status_Unknown</th>\n",
       "      <th>smoking_status_formerly smoked</th>\n",
       "      <th>smoking_status_never smoked</th>\n",
       "      <th>smoking_status_smokes</th>\n",
       "    </tr>\n",
       "    <tr>\n",
       "      <th>id</th>\n",
       "      <th></th>\n",
       "      <th></th>\n",
       "      <th></th>\n",
       "      <th></th>\n",
       "      <th></th>\n",
       "      <th></th>\n",
       "      <th></th>\n",
       "      <th></th>\n",
       "      <th></th>\n",
       "      <th></th>\n",
       "      <th></th>\n",
       "      <th></th>\n",
       "      <th></th>\n",
       "      <th></th>\n",
       "      <th></th>\n",
       "      <th></th>\n",
       "      <th></th>\n",
       "      <th></th>\n",
       "      <th></th>\n",
       "      <th></th>\n",
       "      <th></th>\n",
       "    </tr>\n",
       "  </thead>\n",
       "  <tbody>\n",
       "    <tr>\n",
       "      <th>69329</th>\n",
       "      <td>62.0</td>\n",
       "      <td>203.57</td>\n",
       "      <td>29.1</td>\n",
       "      <td>1</td>\n",
       "      <td>0</td>\n",
       "      <td>0</td>\n",
       "      <td>1</td>\n",
       "      <td>0</td>\n",
       "      <td>1</td>\n",
       "      <td>0</td>\n",
       "      <td>...</td>\n",
       "      <td>0</td>\n",
       "      <td>1</td>\n",
       "      <td>0</td>\n",
       "      <td>0</td>\n",
       "      <td>1</td>\n",
       "      <td>0</td>\n",
       "      <td>1</td>\n",
       "      <td>0</td>\n",
       "      <td>0</td>\n",
       "      <td>0</td>\n",
       "    </tr>\n",
       "    <tr>\n",
       "      <th>58833</th>\n",
       "      <td>14.0</td>\n",
       "      <td>61.04</td>\n",
       "      <td>17.6</td>\n",
       "      <td>0</td>\n",
       "      <td>1</td>\n",
       "      <td>0</td>\n",
       "      <td>1</td>\n",
       "      <td>0</td>\n",
       "      <td>1</td>\n",
       "      <td>0</td>\n",
       "      <td>...</td>\n",
       "      <td>0</td>\n",
       "      <td>1</td>\n",
       "      <td>0</td>\n",
       "      <td>0</td>\n",
       "      <td>1</td>\n",
       "      <td>0</td>\n",
       "      <td>1</td>\n",
       "      <td>0</td>\n",
       "      <td>0</td>\n",
       "      <td>0</td>\n",
       "    </tr>\n",
       "  </tbody>\n",
       "</table>\n",
       "<p>2 rows × 23 columns</p>\n",
       "</div>"
      ],
      "text/plain": [
       "        age  avg_glucose_level   bmi  gender_Female  gender_Male  \\\n",
       "id                                                                 \n",
       "69329  62.0             203.57  29.1              1            0   \n",
       "58833  14.0              61.04  17.6              0            1   \n",
       "\n",
       "       gender_Other  hypertension_0  hypertension_1  heart_disease_0  \\\n",
       "id                                                                     \n",
       "69329             0               1               0                1   \n",
       "58833             0               1               0                1   \n",
       "\n",
       "       heart_disease_1  ...  work_type_Never_worked  work_type_Private  \\\n",
       "id                      ...                                              \n",
       "69329                0  ...                       0                  1   \n",
       "58833                0  ...                       0                  1   \n",
       "\n",
       "       work_type_Self-employed  work_type_children  Residence_type_Rural  \\\n",
       "id                                                                         \n",
       "69329                        0                   0                     1   \n",
       "58833                        0                   0                     1   \n",
       "\n",
       "       Residence_type_Urban  smoking_status_Unknown  \\\n",
       "id                                                    \n",
       "69329                     0                       1   \n",
       "58833                     0                       1   \n",
       "\n",
       "       smoking_status_formerly smoked  smoking_status_never smoked  \\\n",
       "id                                                                   \n",
       "69329                               0                            0   \n",
       "58833                               0                            0   \n",
       "\n",
       "       smoking_status_smokes  \n",
       "id                            \n",
       "69329                      0  \n",
       "58833                      0  \n",
       "\n",
       "[2 rows x 23 columns]"
      ]
     },
     "execution_count": 13,
     "metadata": {},
     "output_type": "execute_result"
    }
   ],
   "source": [
    "# encode categorical variables\n",
    "X,y=stroke_df_bal.iloc[:,:-1],stroke_df_bal.iloc[:,:-1]\n",
    "X_dummies=pd.get_dummies(X)\n",
    "X_dummies.head(2)"
   ]
  },
  {
   "cell_type": "code",
   "execution_count": 14,
   "metadata": {
    "id": "9yu4IBd7PK4n"
   },
   "outputs": [],
   "source": [
    "# split the data to train and test\n",
    "X_train, X_test, y_train, y_test=train_test_split(X_dummies,y_stroke_df_bal,\n",
    "                                                 test_size=.25,\n",
    "                                                 random_state=0)"
   ]
  },
  {
   "cell_type": "markdown",
   "metadata": {
    "id": "DQrUUAIFlAXg"
   },
   "source": [
    "## K-NN Classification"
   ]
  },
  {
   "cell_type": "code",
   "execution_count": 15,
   "metadata": {
    "colab": {
     "base_uri": "https://localhost:8080/"
    },
    "id": "jqrIqexVpPSJ",
    "outputId": "53b1af0d-4862-468c-b7fa-51a0ccc0c3c2"
   },
   "outputs": [
    {
     "data": {
      "text/plain": [
       "array([[0.75585938, 0.68511248, 0.3715415 , ..., 0.        , 0.        ,\n",
       "        0.        ],\n",
       "       [0.16992188, 0.02674488, 0.14426877, ..., 0.        , 0.        ,\n",
       "        0.        ],\n",
       "       [0.25537109, 0.04545245, 0.26086957, ..., 0.        , 1.        ,\n",
       "        0.        ],\n",
       "       ...,\n",
       "       [0.96337891, 0.27493187, 0.37826152, ..., 1.        , 0.        ,\n",
       "        0.        ],\n",
       "       [0.95117188, 0.05561458, 0.2826087 , ..., 0.        , 1.        ,\n",
       "        0.        ],\n",
       "       [0.01513672, 0.06984156, 0.37826152, ..., 0.        , 0.        ,\n",
       "        0.        ]])"
      ]
     },
     "execution_count": 15,
     "metadata": {},
     "output_type": "execute_result"
    }
   ],
   "source": [
    "# scaling the data\n",
    "knn_scaler=MinMaxScaler()\n",
    "X_dummies_trns=knn_scaler.fit_transform(X_dummies)\n",
    "X_dummies_trns"
   ]
  },
  {
   "cell_type": "code",
   "execution_count": 16,
   "metadata": {
    "id": "ifopDwLkpm69"
   },
   "outputs": [],
   "source": [
    "# range of values to test for n_neighbors\n",
    "C_range_knn=[1,5,10,15,20,25,30,35,40,45,50,51,52,60,70]"
   ]
  },
  {
   "cell_type": "code",
   "execution_count": 17,
   "metadata": {},
   "outputs": [
    {
     "data": {
      "image/png": "[encoded data removed]",
      "text/plain": [
       "<Figure size 432x288 with 1 Axes>"
      ]
     },
     "metadata": {
      "needs_background": "light"
     },
     "output_type": "display_data"
    }
   ],
   "source": [
    "# visualize a validation curve for best n_neighbors\n",
    "import matplotlib.pyplot as plt\n",
    "import numpy as np\n",
    "from sklearn.datasets import load_digits\n",
    "\n",
    "stroke_df_bal=load_digits()\n",
    "\n",
    "train_scores_knn1,test_scores_knn1=validation_curve(KNeighborsClassifier(),\n",
    "                                                    X_dummies_trns,y_stroke_df_bal,\n",
    "                                                   param_name=\"n_neighbors\",\n",
    "                                                   param_range=C_range_knn,\n",
    "                                                   cv=5,scoring=\"accuracy\")\n",
    "# calculating mean and standard deviation of training score\n",
    "mean_train_score=np.mean(train_scores_knn1,axis=1)\n",
    "std_train_score=np.std(train_scores_knn1,axis=1)\n",
    "# calculating mean and standard deviation of testing score\n",
    "mean_test_score=np.mean(test_scores_knn1,axis=1)\n",
    "std_test_score=np.std(test_scores_knn1,axis=1)\n",
    "# plot mean accuracy scores for training and testing scores\n",
    "plt.plot(C_range_knn,mean_train_score,\n",
    "        label=\"Training Score\",color='b')\n",
    "plt.plot(C_range_knn,mean_test_score,\n",
    "         label=\"Cross Validation Score\",color='g')\n",
    "# creating the plot\n",
    "plt.title(\"Validation Curve with KNN Classifier\")\n",
    "plt.xlabel(\"Number of Neighbors\")\n",
    "plt.ylabel(\"Accuracy\")\n",
    "plt.tight_layout()\n",
    "plt.legend(loc='best')\n",
    "plt.show()"
   ]
  },
  {
   "cell_type": "markdown",
   "metadata": {},
   "source": [
    "Choose n_neighbors = 35"
   ]
  },
  {
   "cell_type": "code",
   "execution_count": 18,
   "metadata": {},
   "outputs": [],
   "source": [
    "# determine train & test scores via validation curve\n",
    "train_scores_knn,test_scores_knn=validation_curve(KNeighborsClassifier(),\n",
    "                                         X_dummies_trns,y_stroke_df_bal,\n",
    "                                         param_name='n_neighbors',\n",
    "                                         param_range=C_range_knn,cv=5,\n",
    "                                                  scoring='accuracy')"
   ]
  },
  {
   "cell_type": "code",
   "execution_count": 19,
   "metadata": {},
   "outputs": [
    {
     "name": "stdout",
     "output_type": "stream",
     "text": [
      "average score in 5 folds for different neighbors:\n",
      "training: [1.     0.8639 0.8049 0.7789 0.762  0.7414 0.7365 0.7368 0.7511 0.7568\n",
      " 0.7541 0.7551 0.7537 0.7511 0.7529]\n",
      "test: [0.9125 0.794  0.7555 0.738  0.726  0.7245 0.716  0.726  0.738  0.744\n",
      " 0.7435 0.7455 0.739  0.7405 0.7395]\n"
     ]
    }
   ],
   "source": [
    "# choose n_neighbors = 35\n",
    "print('average score in 5 folds for different neighbors:')\n",
    "print('training:',train_scores_knn.mean(axis=1).round(4))\n",
    "print('test:',test_scores_knn.mean(axis=1).round(4))"
   ]
  },
  {
   "cell_type": "code",
   "execution_count": 20,
   "metadata": {
    "id": "-lz4LaueWwuO"
   },
   "outputs": [],
   "source": [
    "# testing to different models of KNeighborsClassifier to check validation curve\n",
    "knn1=KNeighborsClassifier(n_neighbors=1)\n",
    "knn2=KNeighborsClassifier(n_neighbors=2)\n",
    "knn3=KNeighborsClassifier(n_neighbors=3)\n",
    "knn4=KNeighborsClassifier(n_neighbors=4)\n",
    "knn5=KNeighborsClassifier(n_neighbors=5)\n",
    "knn25=KNeighborsClassifier(n_neighbors=25)\n",
    "knn29=KNeighborsClassifier(n_neighbors=29)\n",
    "knn35=KNeighborsClassifier(n_neighbors=35)\n",
    "knn51=KNeighborsClassifier(n_neighbors=51)\n",
    "knn55=KNeighborsClassifier(n_neighbors=55)"
   ]
  },
  {
   "cell_type": "code",
   "execution_count": 21,
   "metadata": {
    "colab": {
     "base_uri": "https://localhost:8080/"
    },
    "id": "xMBYlR-YaXPo",
    "outputId": "15cdac0e-b8e8-4de1-b3c0-8751a4149fff"
   },
   "outputs": [
    {
     "data": {
      "text/plain": [
       "KNeighborsClassifier(n_neighbors=55)"
      ]
     },
     "execution_count": 21,
     "metadata": {},
     "output_type": "execute_result"
    }
   ],
   "source": [
    "# fit the model\n",
    "knn1.fit(X_train,y_train)\n",
    "knn2.fit(X_train,y_train)\n",
    "knn3.fit(X_train,y_train)\n",
    "knn4.fit(X_train,y_train)\n",
    "knn5.fit(X_train,y_train)\n",
    "knn25.fit(X_train,y_train)\n",
    "knn29.fit(X_train,y_train)\n",
    "knn35.fit(X_train,y_train)\n",
    "knn51.fit(X_train,y_train)\n",
    "knn55.fit(X_train,y_train)"
   ]
  },
  {
   "cell_type": "code",
   "execution_count": 22,
   "metadata": {
    "colab": {
     "base_uri": "https://localhost:8080/"
    },
    "id": "nl1yNCvaah-b",
    "outputId": "53a92299-404e-48a0-a366-808b7ac3975c"
   },
   "outputs": [
    {
     "name": "stdout",
     "output_type": "stream",
     "text": [
      "knn1 acc on train: 100.00%\n",
      "knn1 acc on test: 92.40% \n",
      "\n",
      "knn2 acc on train: 98.87%\n",
      "knn2 acc on test: 88.40% \n",
      "\n",
      "knn3 acc on train: 92.40%\n",
      "knn3 acc on test: 84.80% \n",
      "\n",
      "knn4 acc on train: 90.53%\n",
      "knn4 acc on test: 81.60% \n",
      "\n",
      "knn5 acc on train: 86.93%\n",
      "knn5 acc on test: 80.20% \n",
      "\n",
      "knn25 acc on train: 79.40%\n",
      "knn25 acc on test: 77.80% \n",
      "\n",
      "knn29 acc on train: 79.60%\n",
      "knn29 acc on test: 78.60% \n",
      "\n",
      "knn35 acc on train: 78.73%\n",
      "knn35 acc on test: 81.00% \n",
      "\n",
      "knn51 acc on train: 76.33%\n",
      "knn51 acc on test: 77.40% \n",
      "\n",
      "knn55 acc on train: 76.60%\n",
      "knn55 acc on test: 79.00%\n"
     ]
    }
   ],
   "source": [
    "# evaluate the model\n",
    "## n_neighbors = 35 was a good choice\n",
    "print('knn1 acc on train: {:.2%}'.format(knn1.score(X_train,y_train)))\n",
    "print('knn1 acc on test: {:.2%}'.format(knn1.score(X_test,y_test)),'\\n')\n",
    "\n",
    "print('knn2 acc on train: {:.2%}'.format(knn2.score(X_train,y_train)))\n",
    "print('knn2 acc on test: {:.2%}'.format(knn2.score(X_test,y_test)),'\\n')\n",
    "\n",
    "print('knn3 acc on train: {:.2%}'.format(knn3.score(X_train,y_train)))\n",
    "print('knn3 acc on test: {:.2%}'.format(knn3.score(X_test,y_test)),'\\n')\n",
    "\n",
    "print('knn4 acc on train: {:.2%}'.format(knn4.score(X_train,y_train)))\n",
    "print('knn4 acc on test: {:.2%}'.format(knn4.score(X_test,y_test)),'\\n')\n",
    "\n",
    "print('knn5 acc on train: {:.2%}'.format(knn5.score(X_train,y_train)))\n",
    "print('knn5 acc on test: {:.2%}'.format(knn5.score(X_test,y_test)),'\\n')\n",
    "\n",
    "print('knn25 acc on train: {:.2%}'.format(knn25.score(X_train,y_train)))\n",
    "print('knn25 acc on test: {:.2%}'.format(knn25.score(X_test,y_test)),'\\n')\n",
    "\n",
    "print('knn29 acc on train: {:.2%}'.format(knn29.score(X_train,y_train)))\n",
    "print('knn29 acc on test: {:.2%}'.format(knn29.score(X_test,y_test)),'\\n')\n",
    "\n",
    "print('knn35 acc on train: {:.2%}'.format(knn35.score(X_train,y_train)))\n",
    "print('knn35 acc on test: {:.2%}'.format(knn35.score(X_test,y_test)),'\\n')\n",
    "\n",
    "print('knn51 acc on train: {:.2%}'.format(knn51.score(X_train,y_train)))\n",
    "print('knn51 acc on test: {:.2%}'.format(knn51.score(X_test,y_test)),'\\n')\n",
    "\n",
    "print('knn55 acc on train: {:.2%}'.format(knn55.score(X_train,y_train)))\n",
    "print('knn55 acc on test: {:.2%}'.format(knn55.score(X_test,y_test)))"
   ]
  },
  {
   "cell_type": "markdown",
   "metadata": {
    "id": "3c7UEqpukyuE"
   },
   "source": [
    "## Logistic Regression"
   ]
  },
  {
   "cell_type": "code",
   "execution_count": 23,
   "metadata": {
    "id": "KZ-niTfxlICk"
   },
   "outputs": [],
   "source": [
    "from sklearn.linear_model import LogisticRegression"
   ]
  },
  {
   "cell_type": "code",
   "execution_count": 24,
   "metadata": {
    "colab": {
     "base_uri": "https://localhost:8080/"
    },
    "id": "_ND7M1GSp4Pw",
    "outputId": "26e082a7-9077-4350-98b8-075e3c8b3383"
   },
   "outputs": [
    {
     "data": {
      "text/plain": [
       "array([[0.75585938, 0.68511248, 0.3715415 , ..., 0.        , 0.        ,\n",
       "        0.        ],\n",
       "       [0.16992188, 0.02674488, 0.14426877, ..., 0.        , 0.        ,\n",
       "        0.        ],\n",
       "       [0.25537109, 0.04545245, 0.26086957, ..., 0.        , 1.        ,\n",
       "        0.        ],\n",
       "       ...,\n",
       "       [0.96337891, 0.27493187, 0.37826152, ..., 1.        , 0.        ,\n",
       "        0.        ],\n",
       "       [0.95117188, 0.05561458, 0.2826087 , ..., 0.        , 1.        ,\n",
       "        0.        ],\n",
       "       [0.01513672, 0.06984156, 0.37826152, ..., 0.        , 0.        ,\n",
       "        0.        ]])"
      ]
     },
     "execution_count": 24,
     "metadata": {},
     "output_type": "execute_result"
    }
   ],
   "source": [
    "# scale the data\n",
    "log_scaler=MinMaxScaler()\n",
    "X_dummies_trns"
   ]
  },
  {
   "cell_type": "code",
   "execution_count": 25,
   "metadata": {
    "id": "wqkxkLiVqAng"
   },
   "outputs": [],
   "source": [
    "# range for validation curve to test for best logistic regression value of 'C'\n",
    "C_range_log=[0.01,0.1,0.5,1,2,3,4,5,8,9,10,15,32,33,34,35]"
   ]
  },
  {
   "cell_type": "code",
   "execution_count": 26,
   "metadata": {
    "scrolled": true
   },
   "outputs": [
    {
     "data": {
      "image/png": "[encoded data removed]",
      "text/plain": [
       "<Figure size 432x288 with 1 Axes>"
      ]
     },
     "metadata": {
      "needs_background": "light"
     },
     "output_type": "display_data"
    }
   ],
   "source": [
    "# visualize the validation curve\n",
    "train_scores_log,test_scores_log=validation_curve(LogisticRegression(max_iter=1000),\n",
    "                                                    X_dummies_trns,y_stroke_df_bal,\n",
    "                                                   param_name='C',\n",
    "                                                   param_range=C_range_log,\n",
    "                                                   cv=5,scoring=\"accuracy\")\n",
    "# calculating mean and standard deviation of training score\n",
    "mean_train_score_log=np.mean(train_scores_log,axis=1)\n",
    "std_train_score_log=np.std(train_scores_log,axis=1)\n",
    "# calculating mean and standard deviation of testing score\n",
    "mean_test_score_log=np.mean(test_scores_log,axis=1)\n",
    "std_test_score_log=np.std(test_scores_log,axis=1)\n",
    "# plot mean accuracy scores for training and testing scores\n",
    "plt.plot(C_range_log,mean_train_score_log,\n",
    "        label=\"Training Score\",color='b')\n",
    "plt.plot(C_range_log,mean_test_score_log,\n",
    "         label=\"Cross Validation Score\",color='g')\n",
    "# creating the plot\n",
    "plt.title(\"Validation Curve with Logistic Regression\")\n",
    "plt.xlabel(\"Best Value of C\")\n",
    "plt.ylabel(\"Accuracy\")\n",
    "plt.tight_layout()\n",
    "plt.legend(loc='best')\n",
    "plt.show()"
   ]
  },
  {
   "cell_type": "markdown",
   "metadata": {},
   "source": [
    "Choose C=4"
   ]
  },
  {
   "cell_type": "code",
   "execution_count": 27,
   "metadata": {
    "id": "GMBokmieqGjq"
   },
   "outputs": [],
   "source": [
    "# determine train & test scores via validation curve\n",
    "train_scores,test_scores=validation_curve(LogisticRegression(max_iter=1000),\n",
    "                                          X_dummies_trns,y_stroke_df_bal,\n",
    "                                          param_name='C',param_range=C_range_log,cv=5)"
   ]
  },
  {
   "cell_type": "code",
   "execution_count": 28,
   "metadata": {
    "colab": {
     "base_uri": "https://localhost:8080/"
    },
    "id": "r8fcrK7pqb4k",
    "outputId": "66597bfa-669b-44f7-a222-33c2b283d55e"
   },
   "outputs": [
    {
     "data": {
      "text/plain": [
       "array([[0.7419, 0.7312, 0.7381, 0.7519, 0.7488],\n",
       "       [0.7725, 0.7731, 0.7656, 0.775 , 0.7781],\n",
       "       [0.7812, 0.7844, 0.7769, 0.7875, 0.7906],\n",
       "       [0.7819, 0.7862, 0.78  , 0.7894, 0.7881],\n",
       "       [0.7812, 0.7844, 0.7756, 0.7931, 0.7906],\n",
       "       [0.7819, 0.7825, 0.7762, 0.7931, 0.7919],\n",
       "       [0.7819, 0.7825, 0.7788, 0.7931, 0.7912],\n",
       "       [0.7819, 0.7825, 0.7781, 0.7931, 0.7912],\n",
       "       [0.7837, 0.7819, 0.7781, 0.7938, 0.7919],\n",
       "       [0.7806, 0.7819, 0.7781, 0.7944, 0.7919],\n",
       "       [0.7806, 0.7819, 0.7762, 0.7944, 0.7919],\n",
       "       [0.78  , 0.7825, 0.7762, 0.7944, 0.7925],\n",
       "       [0.78  , 0.7819, 0.7756, 0.7938, 0.7925],\n",
       "       [0.78  , 0.7819, 0.7756, 0.7931, 0.7925],\n",
       "       [0.78  , 0.7819, 0.7756, 0.7931, 0.7925],\n",
       "       [0.78  , 0.7819, 0.7756, 0.7931, 0.7925]])"
      ]
     },
     "execution_count": 28,
     "metadata": {},
     "output_type": "execute_result"
    }
   ],
   "source": [
    "train_scores.round(4)"
   ]
  },
  {
   "cell_type": "code",
   "execution_count": 29,
   "metadata": {
    "colab": {
     "base_uri": "https://localhost:8080/"
    },
    "id": "ihGRdZwGA6AQ",
    "outputId": "3f3b13ec-75f9-47ed-8e8e-746ebfa44a2d"
   },
   "outputs": [
    {
     "data": {
      "text/plain": [
       "array([[0.7475, 0.7175, 0.7625, 0.74  , 0.7325],\n",
       "       [0.76  , 0.7675, 0.8   , 0.7675, 0.76  ],\n",
       "       [0.775 , 0.7625, 0.815 , 0.7725, 0.77  ],\n",
       "       [0.7725, 0.77  , 0.8225, 0.78  , 0.77  ],\n",
       "       [0.77  , 0.77  , 0.8225, 0.7775, 0.775 ],\n",
       "       [0.77  , 0.7725, 0.8225, 0.7775, 0.775 ],\n",
       "       [0.77  , 0.7725, 0.825 , 0.7775, 0.7775],\n",
       "       [0.77  , 0.7675, 0.825 , 0.775 , 0.7775],\n",
       "       [0.77  , 0.7675, 0.825 , 0.7725, 0.7775],\n",
       "       [0.765 , 0.7675, 0.825 , 0.7725, 0.7775],\n",
       "       [0.765 , 0.7675, 0.82  , 0.7725, 0.7775],\n",
       "       [0.7675, 0.77  , 0.82  , 0.7725, 0.775 ],\n",
       "       [0.7675, 0.7675, 0.8175, 0.7725, 0.775 ],\n",
       "       [0.7675, 0.7675, 0.8175, 0.7725, 0.775 ],\n",
       "       [0.7675, 0.7675, 0.8175, 0.7725, 0.775 ],\n",
       "       [0.7675, 0.7675, 0.8175, 0.7725, 0.775 ]])"
      ]
     },
     "execution_count": 29,
     "metadata": {},
     "output_type": "execute_result"
    }
   ],
   "source": [
    "test_scores.round(4)"
   ]
  },
  {
   "cell_type": "code",
   "execution_count": 30,
   "metadata": {
    "colab": {
     "base_uri": "https://localhost:8080/"
    },
    "id": "d3vTdd7gA8NV",
    "outputId": "39a7addf-3c36-450e-ec3c-424cfde04f37"
   },
   "outputs": [
    {
     "name": "stdout",
     "output_type": "stream",
     "text": [
      "average score in 5 folds for different C values:\n",
      "training: [0.7424 0.7729 0.7841 0.7851 0.785  0.7851 0.7855 0.7854 0.7859 0.7854\n",
      " 0.785  0.7851 0.7848 0.7846 0.7846 0.7846]\n",
      "test: [0.74   0.771  0.779  0.783  0.783  0.7835 0.7845 0.783  0.7825 0.7815\n",
      " 0.7805 0.781  0.78   0.78   0.78   0.78  ]\n"
     ]
    }
   ],
   "source": [
    "# C=4 has highest test score\n",
    "print('average score in 5 folds for different C values:')\n",
    "print('training:',train_scores.mean(axis=1).round(4))\n",
    "print('test:',test_scores.mean(axis=1).round(4))"
   ]
  },
  {
   "cell_type": "code",
   "execution_count": 31,
   "metadata": {
    "colab": {
     "base_uri": "https://localhost:8080/"
    },
    "id": "L9-_Wn_sBAeC",
    "outputId": "312c4672-302f-4911-d939-01c41650f1a0"
   },
   "outputs": [
    {
     "data": {
      "text/plain": [
       "0.7815937500000001"
      ]
     },
     "execution_count": 31,
     "metadata": {},
     "output_type": "execute_result"
    }
   ],
   "source": [
    "train_scores.mean()"
   ]
  },
  {
   "cell_type": "code",
   "execution_count": 32,
   "metadata": {},
   "outputs": [
    {
     "data": {
      "text/plain": [
       "0.77828125"
      ]
     },
     "execution_count": 32,
     "metadata": {},
     "output_type": "execute_result"
    }
   ],
   "source": [
    "test_scores.mean()"
   ]
  },
  {
   "cell_type": "code",
   "execution_count": 33,
   "metadata": {
    "colab": {
     "base_uri": "https://localhost:8080/"
    },
    "id": "Z8dWi8EZn4Aw",
    "outputId": "4ba07e1b-59e2-4fd3-feed-49cdd048dd6a"
   },
   "outputs": [
    {
     "data": {
      "text/plain": [
       "LogisticRegression(C=4, max_iter=1000)"
      ]
     },
     "execution_count": 33,
     "metadata": {},
     "output_type": "execute_result"
    }
   ],
   "source": [
    "# running the logistic regression model\n",
    "log_reg2=LogisticRegression(C=4,max_iter=1000)\n",
    "log_reg2.fit(X_train,y_train)"
   ]
  },
  {
   "cell_type": "code",
   "execution_count": 34,
   "metadata": {
    "colab": {
     "base_uri": "https://localhost:8080/"
    },
    "id": "cYDolKqgn-D9",
    "outputId": "ea34d85d-a47f-483b-8afb-79f1264fab1d"
   },
   "outputs": [
    {
     "name": "stdout",
     "output_type": "stream",
     "text": [
      "Log reg acc on train: 0.776\n",
      "Log reg acc on test: 0.804\n"
     ]
    }
   ],
   "source": [
    "# evaluating the model\n",
    "print('Log reg acc on train: {:.3f}'.format(log_reg2.score(X_train,y_train)))\n",
    "print('Log reg acc on test: {:.3f}'.format(log_reg2.score(X_test,y_test)))"
   ]
  },
  {
   "cell_type": "markdown",
   "metadata": {
    "id": "LNXHt0K6BSil"
   },
   "source": [
    "## Support Vector Machine"
   ]
  },
  {
   "cell_type": "code",
   "execution_count": 35,
   "metadata": {
    "id": "MUfJ4aImI_QC"
   },
   "outputs": [],
   "source": [
    "from sklearn.svm import LinearSVC"
   ]
  },
  {
   "cell_type": "code",
   "execution_count": 36,
   "metadata": {},
   "outputs": [],
   "source": [
    "# range of C for SVM model validation curve to identify best 'C' value\n",
    "C_range_svm=[0.5,1,2,3,4,5,6,7,8,9,10]"
   ]
  },
  {
   "cell_type": "code",
   "execution_count": 37,
   "metadata": {},
   "outputs": [
    {
     "data": {
      "image/png": "[encoded data removed]",
      "text/plain": [
       "<Figure size 432x288 with 1 Axes>"
      ]
     },
     "metadata": {
      "needs_background": "light"
     },
     "output_type": "display_data"
    }
   ],
   "source": [
    "# visualize the validation curve\n",
    "train_scores_svm_plt,test_scores_svm_plt=validation_curve(LinearSVC(max_iter=10000),\n",
    "                                                    X_dummies_trns,y_stroke_df_bal,\n",
    "                                                   param_name='C',\n",
    "                                                   param_range=C_range_svm,\n",
    "                                                   cv=5,scoring=\"accuracy\")\n",
    "# calculating mean and standard deviation of training score\n",
    "mean_train_score_svm_plt=np.mean(train_scores_svm_plt,axis=1)\n",
    "std_train_score_svm_plt=np.std(train_scores_svm_plt,axis=1)\n",
    "# calculating mean and standard deviation of testing score\n",
    "mean_test_score_svm_plt=np.mean(test_scores_svm_plt,axis=1)\n",
    "std_test_score_svm_plt=np.std(test_scores_svm_plt,axis=1)\n",
    "# plot mean accuracy scores for training and testing scores\n",
    "plt.plot(C_range_svm,mean_train_score_svm_plt,\n",
    "        label=\"Training Score\",color='b')\n",
    "plt.plot(C_range_svm,mean_test_score_svm_plt,\n",
    "         label=\"Cross Validation Score\",color='g')\n",
    "# creating the plot\n",
    "plt.title(\"Validation Curve with Support Vector Machine\")\n",
    "plt.xlabel(\"Best Value of C\")\n",
    "plt.ylabel(\"Accuracy\")\n",
    "plt.tight_layout()\n",
    "plt.legend(loc='best')\n",
    "plt.show()"
   ]
  },
  {
   "cell_type": "markdown",
   "metadata": {},
   "source": [
    "Choose c=3?"
   ]
  },
  {
   "cell_type": "code",
   "execution_count": 38,
   "metadata": {
    "colab": {
     "base_uri": "https://localhost:8080/"
    },
    "id": "hWDqSp9yTz7B",
    "outputId": "ca45d906-0672-4f1e-e3ee-8dae03867f97"
   },
   "outputs": [],
   "source": [
    "# determine train & test scores via validation curve\n",
    "train_scores_svc,test_scores_svc=validation_curve(LinearSVC(max_iter=100000),\n",
    "                                         X_dummies_trns,y_stroke_df_bal,\n",
    "                                         param_name='C',\n",
    "                                         param_range=C_range_svm,\n",
    "                                          cv=5)"
   ]
  },
  {
   "cell_type": "code",
   "execution_count": 39,
   "metadata": {
    "colab": {
     "base_uri": "https://localhost:8080/"
    },
    "id": "RqCOLMvBUbDa",
    "outputId": "ce08edb5-1122-4500-bd9b-98764f742352"
   },
   "outputs": [
    {
     "data": {
      "text/plain": [
       "array([[0.7831, 0.7862, 0.775 , 0.7938, 0.7912],\n",
       "       [0.785 , 0.7862, 0.7738, 0.7931, 0.7919],\n",
       "       [0.7856, 0.7862, 0.775 , 0.7931, 0.7906],\n",
       "       [0.7856, 0.7862, 0.775 , 0.7938, 0.7906],\n",
       "       [0.7856, 0.7862, 0.775 , 0.7938, 0.7906],\n",
       "       [0.7856, 0.7862, 0.775 , 0.7938, 0.7906],\n",
       "       [0.7856, 0.7862, 0.775 , 0.7938, 0.7906],\n",
       "       [0.7856, 0.7862, 0.775 , 0.7938, 0.7906],\n",
       "       [0.7856, 0.7862, 0.775 , 0.7938, 0.7906],\n",
       "       [0.7856, 0.7862, 0.775 , 0.7938, 0.7906],\n",
       "       [0.7856, 0.7862, 0.775 , 0.7938, 0.7906]])"
      ]
     },
     "execution_count": 39,
     "metadata": {},
     "output_type": "execute_result"
    }
   ],
   "source": [
    "train_scores_svc.round(4)"
   ]
  },
  {
   "cell_type": "code",
   "execution_count": 40,
   "metadata": {
    "colab": {
     "base_uri": "https://localhost:8080/"
    },
    "id": "-46fGr3_UjrK",
    "outputId": "7cdc0352-a8ea-4af7-9fcb-f26933fb6ae9"
   },
   "outputs": [
    {
     "data": {
      "text/plain": [
       "array([[0.775 , 0.78  , 0.82  , 0.7775, 0.765 ],\n",
       "       [0.7725, 0.78  , 0.82  , 0.7775, 0.765 ],\n",
       "       [0.7725, 0.78  , 0.82  , 0.7775, 0.765 ],\n",
       "       [0.7725, 0.78  , 0.82  , 0.7775, 0.765 ],\n",
       "       [0.7725, 0.78  , 0.82  , 0.7775, 0.765 ],\n",
       "       [0.7725, 0.78  , 0.82  , 0.7775, 0.765 ],\n",
       "       [0.7725, 0.78  , 0.82  , 0.7775, 0.765 ],\n",
       "       [0.7725, 0.78  , 0.82  , 0.7775, 0.765 ],\n",
       "       [0.7725, 0.78  , 0.82  , 0.7775, 0.765 ],\n",
       "       [0.7725, 0.78  , 0.82  , 0.7775, 0.765 ],\n",
       "       [0.7725, 0.78  , 0.82  , 0.7775, 0.765 ]])"
      ]
     },
     "execution_count": 40,
     "metadata": {},
     "output_type": "execute_result"
    }
   ],
   "source": [
    "test_scores_svc.round(4)"
   ]
  },
  {
   "cell_type": "code",
   "execution_count": 41,
   "metadata": {
    "colab": {
     "base_uri": "https://localhost:8080/"
    },
    "id": "IGuWHy9tUmrV",
    "outputId": "5789b28d-2493-44e6-9a92-24f80f934094"
   },
   "outputs": [
    {
     "name": "stdout",
     "output_type": "stream",
     "text": [
      "average score in 5 folds for different C values:\n",
      "training: [0.7859 0.786  0.7861 0.7862 0.7862 0.7862 0.7862 0.7862 0.7862 0.7862\n",
      " 0.7862]\n",
      "test: [0.7859 0.786  0.7861 0.7862 0.7862 0.7862 0.7862 0.7862 0.7862 0.7862\n",
      " 0.7862]\n"
     ]
    }
   ],
   "source": [
    "# c=3 is best\n",
    "print('average score in 5 folds for different C values:')\n",
    "print('training:',train_scores_svc.mean(axis=1).round(4))\n",
    "print('test:',train_scores_svc.mean(axis=1).round(4))"
   ]
  },
  {
   "cell_type": "code",
   "execution_count": 42,
   "metadata": {
    "colab": {
     "base_uri": "https://localhost:8080/"
    },
    "id": "cY0jlSGcUrDe",
    "outputId": "c2b9c3e4-0a70-46f5-a6c0-e82d2d192b6d"
   },
   "outputs": [
    {
     "data": {
      "text/plain": [
       "0.786181818181818"
      ]
     },
     "execution_count": 42,
     "metadata": {},
     "output_type": "execute_result"
    }
   ],
   "source": [
    "train_scores_svc.mean()"
   ]
  },
  {
   "cell_type": "code",
   "execution_count": 43,
   "metadata": {},
   "outputs": [
    {
     "name": "stdout",
     "output_type": "stream",
     "text": [
      "svm acc on train: 50.67%\n",
      "svm acc on test: 51.00%\n"
     ]
    },
    {
     "name": "stderr",
     "output_type": "stream",
     "text": [
      "/Users/jdragu/opt/anaconda3/lib/python3.9/site-packages/sklearn/svm/_base.py:1206: ConvergenceWarning: Liblinear failed to converge, increase the number of iterations.\n",
      "  warnings.warn(\n"
     ]
    }
   ],
   "source": [
    "# run the model\n",
    "svm=LinearSVC(random_state=0,max_iter=10000,C=3)\n",
    "svm.fit(X_train,y_train)\n",
    "print('svm acc on train: {:.2%}'.format(svm.score(X_train,y_train)))\n",
    "print('svm acc on test: {:.2%}'.format(svm.score(X_test,y_test)))"
   ]
  },
  {
   "cell_type": "code",
   "execution_count": 44,
   "metadata": {
    "scrolled": true
   },
   "outputs": [
    {
     "data": {
      "text/plain": [
       "array(['age', 'avg_glucose_level', 'bmi', 'gender_Female', 'gender_Male',\n",
       "       'gender_Other', 'hypertension_0', 'hypertension_1',\n",
       "       'heart_disease_0', 'heart_disease_1', 'ever_married_No',\n",
       "       'ever_married_Yes', 'work_type_Govt_job', 'work_type_Never_worked',\n",
       "       'work_type_Private', 'work_type_Self-employed',\n",
       "       'work_type_children', 'Residence_type_Rural',\n",
       "       'Residence_type_Urban', 'smoking_status_Unknown',\n",
       "       'smoking_status_formerly smoked', 'smoking_status_never smoked',\n",
       "       'smoking_status_smokes'], dtype=object)"
      ]
     },
     "execution_count": 44,
     "metadata": {},
     "output_type": "execute_result"
    }
   ],
   "source": [
    "X_dummies.columns.values"
   ]
  },
  {
   "cell_type": "markdown",
   "metadata": {
    "id": "jmItyAQpUvgB"
   },
   "source": [
    "## Decision Tree"
   ]
  },
  {
   "cell_type": "code",
   "execution_count": 45,
   "metadata": {},
   "outputs": [],
   "source": [
    "# split the data to train and test\n",
    "train_scores_dt_leaf, test_scores_dt_leaf=validation_curve(DecisionTreeClassifier(random_state=0,max_depth=15,min_samples_split=6), X_train, y_train, param_name='max_leaf_nodes',\n",
    "                                           param_range=[103,104,105,106,107,110,115,120,125], cv=5)"
   ]
  },
  {
   "cell_type": "code",
   "execution_count": 46,
   "metadata": {},
   "outputs": [
    {
     "name": "stdout",
     "output_type": "stream",
     "text": [
      "[0.965      0.9655     0.966      0.96666667 0.96666667 0.96816667\n",
      " 0.97066667 0.9725     0.974     ]\n",
      "[0.87733333 0.87866667 0.87866667 0.87733333 0.87666667 0.876\n",
      " 0.87333333 0.87533333 0.876     ]\n"
     ]
    }
   ],
   "source": [
    "# choose max_leaf_nodes=107?\n",
    "print(train_scores_dt_leaf.mean(axis=1))\n",
    "print(test_scores_dt_leaf.mean(axis=1))"
   ]
  },
  {
   "cell_type": "code",
   "execution_count": 47,
   "metadata": {},
   "outputs": [],
   "source": [
    "# split the data to train and test\n",
    "train_scores_dt_depth, test_scores_dt_depth=validation_curve(DecisionTreeClassifier(random_state=0), X_train, y_train, param_name='max_depth',\n",
    "                                           param_range=[1,2,3,4,5,6,7,8,9,10,11,12,13,14,15,16,20,25,30], cv=5)"
   ]
  },
  {
   "cell_type": "code",
   "execution_count": 48,
   "metadata": {},
   "outputs": [],
   "source": [
    "# range of max_depth for validation curve\n",
    "max_depth_range=[5,10,15,20,25,30]"
   ]
  },
  {
   "cell_type": "code",
   "execution_count": 49,
   "metadata": {
    "scrolled": true
   },
   "outputs": [
    {
     "data": {
      "image/png": "[encoded data removed]",
      "text/plain": [
       "<Figure size 432x288 with 1 Axes>"
      ]
     },
     "metadata": {
      "needs_background": "light"
     },
     "output_type": "display_data"
    }
   ],
   "source": [
    "# vizualize the validation curve for max_depth\n",
    "train_scores_dt,test_scores_dt=validation_curve(DecisionTreeClassifier(random_state=0),\n",
    "                                                    X_dummies_trns,y_stroke_df_bal,\n",
    "                                                   param_name='max_depth',\n",
    "                                                   param_range=max_depth_range,\n",
    "                                                   cv=5,scoring=\"accuracy\")\n",
    "# calculating mean and standard deviation of training score\n",
    "mean_train_score_dt=np.mean(train_scores_dt,axis=1)\n",
    "std_train_score_dt=np.std(train_scores_dt,axis=1)\n",
    "# calculating mean and standard deviation of testing score\n",
    "mean_test_score_dt=np.mean(test_scores_dt,axis=1)\n",
    "std_test_score_dt=np.std(test_scores_dt,axis=1)\n",
    "# plot mean accuracy scores for training and testing scores\n",
    "plt.plot(max_depth_range,mean_train_score_dt,\n",
    "        label=\"Training Score\",color='b')\n",
    "plt.plot(max_depth_range,mean_test_score_dt,\n",
    "         label=\"Cross Validation Score\",color='g')\n",
    "# creating the plot\n",
    "plt.title(\"Validation Curve with Decision Tree Classifier\")\n",
    "plt.xlabel(\"max_depth\")\n",
    "plt.ylabel(\"Accuracy\")\n",
    "plt.tight_layout()\n",
    "plt.legend(loc='best')\n",
    "plt.show()"
   ]
  },
  {
   "cell_type": "markdown",
   "metadata": {},
   "source": [
    "choose max_depth 15"
   ]
  },
  {
   "cell_type": "code",
   "execution_count": 50,
   "metadata": {},
   "outputs": [],
   "source": [
    "# range of max_leaf_nodes for validation curve\n",
    "max_leaf_nodes_range=[1,2,3,4,5,6,7,8,9,10,11,12,13,14,15,16,17,18,19,20]"
   ]
  },
  {
   "cell_type": "code",
   "execution_count": 51,
   "metadata": {
    "scrolled": true
   },
   "outputs": [
    {
     "data": {
      "image/png": "[encoded data removed]",
      "text/plain": [
       "<Figure size 432x288 with 1 Axes>"
      ]
     },
     "metadata": {
      "needs_background": "light"
     },
     "output_type": "display_data"
    }
   ],
   "source": [
    "# visualize the validation curve looking at max_leaf_nodes\n",
    "train_scores_dt,test_scores_dt=validation_curve(DecisionTreeClassifier(random_state=0),\n",
    "                                                    X_dummies_trns,y_stroke_df_bal,\n",
    "                                                   param_name='max_leaf_nodes',\n",
    "                                                   param_range=max_leaf_nodes_range,\n",
    "                                                   cv=5,scoring=\"accuracy\")\n",
    "# calculating mean and standard deviation of training score\n",
    "mean_train_score_dt=np.mean(train_scores_dt,axis=1)\n",
    "std_train_score_dt=np.std(train_scores_dt,axis=1)\n",
    "# calculating mean and standard deviation of testing score\n",
    "mean_test_score_dt=np.mean(test_scores_dt,axis=1)\n",
    "std_test_score_dt=np.std(test_scores_dt,axis=1)\n",
    "# plot mean accuracy scores for training and testing scores\n",
    "plt.plot(max_leaf_nodes_range,mean_train_score_dt,\n",
    "        label=\"Training Score\",color='b')\n",
    "plt.plot(max_leaf_nodes_range,mean_test_score_dt,\n",
    "         label=\"Cross Validation Score\",color='g')\n",
    "# creating the plot\n",
    "plt.title(\"Validation Curve with Decision Tree Classifier\")\n",
    "plt.xlabel(\"max_leaf_nodes\")\n",
    "plt.ylabel(\"Accuracy\")\n",
    "plt.tight_layout()\n",
    "plt.legend(loc='best')\n",
    "plt.show()"
   ]
  },
  {
   "cell_type": "markdown",
   "metadata": {},
   "source": [
    "choose max_leaf_nodes=13"
   ]
  },
  {
   "cell_type": "code",
   "execution_count": 52,
   "metadata": {},
   "outputs": [],
   "source": [
    "# range of min_samples_split for validation curve\n",
    "min_split_range=[2,4,6,8,10,12]"
   ]
  },
  {
   "cell_type": "code",
   "execution_count": 53,
   "metadata": {},
   "outputs": [
    {
     "data": {
      "image/png": "[encoded data removed]",
      "text/plain": [
       "<Figure size 432x288 with 1 Axes>"
      ]
     },
     "metadata": {
      "needs_background": "light"
     },
     "output_type": "display_data"
    }
   ],
   "source": [
    "# visualize the validation curve for min_samples_split\n",
    "train_scores_dt,test_scores_dt=validation_curve(DecisionTreeClassifier(random_state=0),\n",
    "                                                    X_dummies_trns,y_stroke_df_bal,\n",
    "                                                   param_name='min_samples_split',\n",
    "                                                   param_range=min_split_range,\n",
    "                                                   cv=5,scoring=\"accuracy\")\n",
    "# calculating mean and standard deviation of training score\n",
    "mean_train_score_dt=np.mean(train_scores_dt,axis=1)\n",
    "std_train_score_dt=np.std(train_scores_dt,axis=1)\n",
    "# calculating mean and standard deviation of testing score\n",
    "mean_test_score_dt=np.mean(test_scores_dt,axis=1)\n",
    "std_test_score_dt=np.std(test_scores_dt,axis=1)\n",
    "# plot mean accuracy scores for training and testing scores\n",
    "plt.plot(min_split_range,mean_train_score_dt,\n",
    "        label=\"Training Score\",color='b')\n",
    "plt.plot(min_split_range,mean_test_score_dt,\n",
    "         label=\"Cross Validation Score\",color='g')\n",
    "# creating the plot\n",
    "plt.title(\"Validation Curve with Decision Tree Classifier\")\n",
    "plt.xlabel(\"min_samples_split\")\n",
    "plt.ylabel(\"Accuracy\")\n",
    "plt.tight_layout()\n",
    "plt.legend(loc='best')\n",
    "plt.show()"
   ]
  },
  {
   "cell_type": "markdown",
   "metadata": {},
   "source": [
    "dificult to tell, but choose min_samples_split=6"
   ]
  },
  {
   "cell_type": "code",
   "execution_count": 54,
   "metadata": {
    "scrolled": false
   },
   "outputs": [
    {
     "name": "stdout",
     "output_type": "stream",
     "text": [
      "[0.78133333 0.78133333 0.78666667 0.808      0.83183333 0.86033333\n",
      " 0.88233333 0.90333333 0.922      0.94233333 0.95983333 0.975\n",
      " 0.98616667 0.99333333 0.99683333 0.9985     1.         1.\n",
      " 1.        ]\n",
      "[0.78133333 0.78133333 0.78466667 0.794      0.79266667 0.82066667\n",
      " 0.83       0.83533333 0.84466667 0.85866667 0.856      0.872\n",
      " 0.88       0.884      0.89066667 0.88733333 0.888      0.888\n",
      " 0.888     ]\n"
     ]
    }
   ],
   "source": [
    "# choose max_depth=15\n",
    "print(train_scores_dt_depth.mean(axis=1))\n",
    "print(test_scores_dt_depth.mean(axis=1))"
   ]
  },
  {
   "cell_type": "code",
   "execution_count": 55,
   "metadata": {},
   "outputs": [],
   "source": [
    "# validation curve to find actual value of train & test scores (min_samples_split)\n",
    "train_scores_dt_split, test_scores_dt_split=validation_curve(DecisionTreeClassifier(random_state=0,max_depth=15), X_train, y_train, param_name='min_samples_split',\n",
    "                                           param_range=[1,2,3,4,5,6,7,8,9,10,12,14,16,18,20], cv=5)"
   ]
  },
  {
   "cell_type": "code",
   "execution_count": 56,
   "metadata": {},
   "outputs": [
    {
     "name": "stdout",
     "output_type": "stream",
     "text": [
      "[       nan 0.99683333 0.99416667 0.9895     0.98383333 0.97633333\n",
      " 0.9675     0.961      0.95533333 0.95083333 0.94066667 0.9325\n",
      " 0.9215     0.91633333 0.911     ]\n",
      "[       nan 0.89066667 0.88733333 0.88466667 0.882      0.87466667\n",
      " 0.87266667 0.866      0.866      0.864      0.862      0.85866667\n",
      " 0.84866667 0.848      0.84666667]\n"
     ]
    }
   ],
   "source": [
    "# evaluate the test scores\n",
    "## choose min_samples_split=6\n",
    "print(train_scores_dt_split.mean(axis=1))\n",
    "print(test_scores_dt_split.mean(axis=1))"
   ]
  },
  {
   "cell_type": "code",
   "execution_count": 57,
   "metadata": {},
   "outputs": [],
   "source": [
    "# validation curve to find actual value of train & test scores (max_leaf_nodes)\n",
    "train_scores_dt,test_scores_dt=validation_curve(DecisionTreeClassifier(),\n",
    "                                         X_train,y_train,\n",
    "                                         param_name='max_leaf_nodes',\n",
    "                                         param_range=max_leaf_nodes_range,\n",
    "                                          cv=5)"
   ]
  },
  {
   "cell_type": "code",
   "execution_count": 58,
   "metadata": {},
   "outputs": [
    {
     "name": "stdout",
     "output_type": "stream",
     "text": [
      "average score in 5 folds for different max_leaf_nodes values:\n",
      "training: [   nan 0.7813 0.7813 0.7813 0.7855 0.7918 0.7975 0.8023 0.8062 0.8135\n",
      " 0.8163 0.8208 0.8228 0.825  0.8285 0.8308 0.8338 0.8368 0.8398 0.843 ]\n",
      "test: [   nan 0.7813 0.7813 0.7813 0.784  0.784  0.786  0.7873 0.7887 0.794\n",
      " 0.7927 0.8    0.8    0.8027 0.8013 0.8013 0.8053 0.806  0.81   0.8147]\n"
     ]
    }
   ],
   "source": [
    "# evaluate the test scores\n",
    "## choose max_leaf_nodes = 13\n",
    "print('average score in 5 folds for different max_leaf_nodes values:')\n",
    "print('training:',train_scores_dt.mean(axis=1).round(4))\n",
    "print('test:',test_scores_dt.mean(axis=1).round(4))"
   ]
  },
  {
   "cell_type": "code",
   "execution_count": 59,
   "metadata": {
    "colab": {
     "base_uri": "https://localhost:8080/"
    },
    "id": "P9TuDFKdU4za",
    "outputId": "8f8f5f50-cb3e-412d-fa1e-8b7ee4900b1b"
   },
   "outputs": [
    {
     "data": {
      "text/plain": [
       "DecisionTreeClassifier(max_depth=15, max_leaf_nodes=13, min_samples_split=6,\n",
       "                       random_state=0)"
      ]
     },
     "execution_count": 59,
     "metadata": {},
     "output_type": "execute_result"
    }
   ],
   "source": [
    "# fit a decision tree with max_leaf_nodes 13\n",
    "dt=DecisionTreeClassifier(random_state=0,max_depth=15,max_leaf_nodes=13,min_samples_split=6)\n",
    "dt.fit(X_train, y_train)"
   ]
  },
  {
   "cell_type": "code",
   "execution_count": 60,
   "metadata": {
    "colab": {
     "base_uri": "https://localhost:8080/"
    },
    "id": "1qlxjE2JVaY5",
    "outputId": "f114b10a-bf1b-4af8-e754-b968ba05aa15"
   },
   "outputs": [
    {
     "name": "stdout",
     "output_type": "stream",
     "text": [
      "dt acc on train: 0.830\n",
      "dt acc on test: 0.832\n"
     ]
    }
   ],
   "source": [
    "# evaluate the performance\n",
    "print('dt acc on train: {:.3f}'.format(dt.score(X_train, y_train)))\n",
    "print('dt acc on test: {:.3f}'.format(dt.score(X_test, y_test)))"
   ]
  },
  {
   "cell_type": "code",
   "execution_count": 61,
   "metadata": {
    "colab": {
     "base_uri": "https://localhost:8080/",
     "height": 424
    },
    "id": "66XuvDrKVhYy",
    "outputId": "8b7a028a-3415-45a4-fec2-403b95dd90f1"
   },
   "outputs": [
    {
     "data": {
      "text/html": [
       "<div>\n",
       "<style scoped>\n",
       "    .dataframe tbody tr th:only-of-type {\n",
       "        vertical-align: middle;\n",
       "    }\n",
       "\n",
       "    .dataframe tbody tr th {\n",
       "        vertical-align: top;\n",
       "    }\n",
       "\n",
       "    .dataframe thead th {\n",
       "        text-align: right;\n",
       "    }\n",
       "</style>\n",
       "<table border=\"1\" class=\"dataframe\">\n",
       "  <thead>\n",
       "    <tr style=\"text-align: right;\">\n",
       "      <th></th>\n",
       "      <th>importance</th>\n",
       "    </tr>\n",
       "  </thead>\n",
       "  <tbody>\n",
       "    <tr>\n",
       "      <th>age</th>\n",
       "      <td>0.789672</td>\n",
       "    </tr>\n",
       "    <tr>\n",
       "      <th>avg_glucose_level</th>\n",
       "      <td>0.060657</td>\n",
       "    </tr>\n",
       "    <tr>\n",
       "      <th>bmi</th>\n",
       "      <td>0.042340</td>\n",
       "    </tr>\n",
       "    <tr>\n",
       "      <th>work_type_Govt_job</th>\n",
       "      <td>0.035374</td>\n",
       "    </tr>\n",
       "    <tr>\n",
       "      <th>gender_Male</th>\n",
       "      <td>0.024342</td>\n",
       "    </tr>\n",
       "    <tr>\n",
       "      <th>ever_married_No</th>\n",
       "      <td>0.024259</td>\n",
       "    </tr>\n",
       "    <tr>\n",
       "      <th>smoking_status_never smoked</th>\n",
       "      <td>0.023357</td>\n",
       "    </tr>\n",
       "    <tr>\n",
       "      <th>work_type_Private</th>\n",
       "      <td>0.000000</td>\n",
       "    </tr>\n",
       "    <tr>\n",
       "      <th>smoking_status_formerly smoked</th>\n",
       "      <td>0.000000</td>\n",
       "    </tr>\n",
       "    <tr>\n",
       "      <th>smoking_status_Unknown</th>\n",
       "      <td>0.000000</td>\n",
       "    </tr>\n",
       "    <tr>\n",
       "      <th>Residence_type_Urban</th>\n",
       "      <td>0.000000</td>\n",
       "    </tr>\n",
       "    <tr>\n",
       "      <th>Residence_type_Rural</th>\n",
       "      <td>0.000000</td>\n",
       "    </tr>\n",
       "    <tr>\n",
       "      <th>work_type_children</th>\n",
       "      <td>0.000000</td>\n",
       "    </tr>\n",
       "    <tr>\n",
       "      <th>work_type_Self-employed</th>\n",
       "      <td>0.000000</td>\n",
       "    </tr>\n",
       "    <tr>\n",
       "      <th>ever_married_Yes</th>\n",
       "      <td>0.000000</td>\n",
       "    </tr>\n",
       "    <tr>\n",
       "      <th>work_type_Never_worked</th>\n",
       "      <td>0.000000</td>\n",
       "    </tr>\n",
       "    <tr>\n",
       "      <th>heart_disease_1</th>\n",
       "      <td>0.000000</td>\n",
       "    </tr>\n",
       "    <tr>\n",
       "      <th>heart_disease_0</th>\n",
       "      <td>0.000000</td>\n",
       "    </tr>\n",
       "    <tr>\n",
       "      <th>hypertension_1</th>\n",
       "      <td>0.000000</td>\n",
       "    </tr>\n",
       "    <tr>\n",
       "      <th>hypertension_0</th>\n",
       "      <td>0.000000</td>\n",
       "    </tr>\n",
       "    <tr>\n",
       "      <th>gender_Other</th>\n",
       "      <td>0.000000</td>\n",
       "    </tr>\n",
       "    <tr>\n",
       "      <th>gender_Female</th>\n",
       "      <td>0.000000</td>\n",
       "    </tr>\n",
       "    <tr>\n",
       "      <th>smoking_status_smokes</th>\n",
       "      <td>0.000000</td>\n",
       "    </tr>\n",
       "  </tbody>\n",
       "</table>\n",
       "</div>"
      ],
      "text/plain": [
       "                                importance\n",
       "age                               0.789672\n",
       "avg_glucose_level                 0.060657\n",
       "bmi                               0.042340\n",
       "work_type_Govt_job                0.035374\n",
       "gender_Male                       0.024342\n",
       "ever_married_No                   0.024259\n",
       "smoking_status_never smoked       0.023357\n",
       "work_type_Private                 0.000000\n",
       "smoking_status_formerly smoked    0.000000\n",
       "smoking_status_Unknown            0.000000\n",
       "Residence_type_Urban              0.000000\n",
       "Residence_type_Rural              0.000000\n",
       "work_type_children                0.000000\n",
       "work_type_Self-employed           0.000000\n",
       "ever_married_Yes                  0.000000\n",
       "work_type_Never_worked            0.000000\n",
       "heart_disease_1                   0.000000\n",
       "heart_disease_0                   0.000000\n",
       "hypertension_1                    0.000000\n",
       "hypertension_0                    0.000000\n",
       "gender_Other                      0.000000\n",
       "gender_Female                     0.000000\n",
       "smoking_status_smokes             0.000000"
      ]
     },
     "execution_count": 61,
     "metadata": {},
     "output_type": "execute_result"
    }
   ],
   "source": [
    "# evaluate feature importance\n",
    "feat_imp=pd.DataFrame(data=dt.feature_importances_,index=X_dummies.columns, columns=['importance'])\n",
    "feat_imp.sort_values(by=['importance'], ascending=False)"
   ]
  },
  {
   "cell_type": "code",
   "execution_count": 62,
   "metadata": {
    "id": "hrZjPuFAjjCs"
   },
   "outputs": [],
   "source": [
    "# export the decision tree to visualize in http://webgraphviz.com/\n",
    "from sklearn.tree import export_graphviz\n",
    "export_graphviz(dt,out_file='dt_viz.dot',\n",
    "               feature_names=X_dummies.columns,\n",
    "               class_names=dt.classes_.astype(str),\n",
    "               filled=True)"
   ]
  },
  {
   "cell_type": "markdown",
   "metadata": {
    "id": "-HJAGmQ0hjDg"
   },
   "source": [
    "## Random Forest"
   ]
  },
  {
   "cell_type": "code",
   "execution_count": 63,
   "metadata": {
    "colab": {
     "base_uri": "https://localhost:8080/"
    },
    "id": "RLN_VpQdjOW5",
    "outputId": "e70ea15c-2682-4fa6-a2d7-57c4ce8f39a9"
   },
   "outputs": [],
   "source": [
    "from sklearn.ensemble import RandomForestClassifier"
   ]
  },
  {
   "cell_type": "code",
   "execution_count": 64,
   "metadata": {},
   "outputs": [],
   "source": [
    "# split the data to train and test\n",
    "train_scores_rf, test_scores_rf=validation_curve(RandomForestClassifier(), X_train, y_train, param_name='n_estimators',\n",
    "                                           param_range=[20,30,40,45,50,55,59,60,61,65,70], cv=5)"
   ]
  },
  {
   "cell_type": "code",
   "execution_count": 65,
   "metadata": {},
   "outputs": [],
   "source": [
    "# range of n_estimators values for random forest validation curve\n",
    "rf_range=[1,15,50,51,52,53,54,55]"
   ]
  },
  {
   "cell_type": "code",
   "execution_count": 66,
   "metadata": {},
   "outputs": [
    {
     "data": {
      "image/png": "[encoded data removed]",
      "text/plain": [
       "<Figure size 432x288 with 1 Axes>"
      ]
     },
     "metadata": {
      "needs_background": "light"
     },
     "output_type": "display_data"
    }
   ],
   "source": [
    "# visualize the validation curve for n_estimators\n",
    "train_scores_rf,test_scores_rf=validation_curve(RandomForestClassifier(),\n",
    "                                                    X_dummies_trns,y_stroke_df_bal,\n",
    "                                                   param_name='n_estimators',\n",
    "                                                   param_range=rf_range,\n",
    "                                                   cv=5,scoring=\"accuracy\")\n",
    "# calculating mean and standard deviation of training score\n",
    "mean_train_score_rf=np.mean(train_scores_rf,axis=1)\n",
    "std_train_score_rf=np.std(train_scores_rf,axis=1)\n",
    "# calculating mean and standard deviation of testing score\n",
    "mean_test_score_rf=np.mean(test_scores_rf,axis=1)\n",
    "std_test_score_rf=np.std(test_scores_rf,axis=1)\n",
    "# plot mean accuracy scores for training and testing scores\n",
    "plt.plot(rf_range,mean_train_score_rf,\n",
    "        label=\"Training Score\",color='b')\n",
    "plt.plot(rf_range,mean_test_score_rf,\n",
    "         label=\"Cross Validation Score\",color='g')\n",
    "# creating the plot\n",
    "plt.title(\"Validation Curve with Random Forest\")\n",
    "plt.xlabel(\"n_estimators\")\n",
    "plt.ylabel(\"Accuracy\")\n",
    "plt.tight_layout()\n",
    "plt.legend(loc='best')\n",
    "plt.show()"
   ]
  },
  {
   "cell_type": "markdown",
   "metadata": {},
   "source": [
    "choose n_estimators = 52"
   ]
  },
  {
   "cell_type": "code",
   "execution_count": 67,
   "metadata": {},
   "outputs": [],
   "source": [
    "# run validation curve to see train & test scores\n",
    "train_scores_rf,test_scores_rf=validation_curve(RandomForestClassifier(),\n",
    "                                                    X_dummies_trns,y_stroke_df_bal,\n",
    "                                                   param_name='n_estimators',\n",
    "                                                   param_range=rf_range,\n",
    "                                                   cv=5,scoring=\"accuracy\")"
   ]
  },
  {
   "cell_type": "code",
   "execution_count": 68,
   "metadata": {},
   "outputs": [
    {
     "name": "stdout",
     "output_type": "stream",
     "text": [
      "[0.949625 0.99875  1.       1.       0.99975  1.       1.       0.999875]\n",
      "[0.8695 0.924  0.933  0.929  0.931  0.927  0.9325 0.926 ]\n"
     ]
    }
   ],
   "source": [
    "# evaluate the validation curve scores\n",
    "## choose n_estimators = 42\n",
    "print(train_scores_rf.mean(axis=1))\n",
    "print(test_scores_rf.mean(axis=1))"
   ]
  },
  {
   "cell_type": "code",
   "execution_count": 69,
   "metadata": {
    "colab": {
     "base_uri": "https://localhost:8080/"
    },
    "id": "7C-Db8lOslwx",
    "outputId": "ad561a4c-b3a6-477a-eb4c-80c84837a5e3"
   },
   "outputs": [
    {
     "data": {
      "text/plain": [
       "RandomForestClassifier(n_estimators=52, random_state=0)"
      ]
     },
     "execution_count": 69,
     "metadata": {},
     "output_type": "execute_result"
    }
   ],
   "source": [
    "# define and fit the model\n",
    "rf=RandomForestClassifier(n_estimators=52,criterion='gini',random_state=0,)\n",
    "rf.fit(X_train, y_train)"
   ]
  },
  {
   "cell_type": "code",
   "execution_count": 71,
   "metadata": {
    "id": "eEIdbZ-0sqIk"
   },
   "outputs": [
    {
     "name": "stdout",
     "output_type": "stream",
     "text": [
      "rf on train: 100.00%\n",
      "rf on test: 96.20%\n"
     ]
    }
   ],
   "source": [
    "# evaluate the performance\n",
    "print('rf on train: {:.2%}'.format(rf.score(X_train, y_train)))\n",
    "print('rf on test: {:.2%}'.format(rf.score(X_test, y_test)))"
   ]
  },
  {
   "cell_type": "markdown",
   "metadata": {},
   "source": [
    "## Best Model: Random Forest"
   ]
  },
  {
   "cell_type": "markdown",
   "metadata": {},
   "source": [
    "## Run predictions with Random Forest"
   ]
  },
  {
   "cell_type": "code",
   "execution_count": 72,
   "metadata": {},
   "outputs": [
    {
     "data": {
      "text/html": [
       "<div>\n",
       "<style scoped>\n",
       "    .dataframe tbody tr th:only-of-type {\n",
       "        vertical-align: middle;\n",
       "    }\n",
       "\n",
       "    .dataframe tbody tr th {\n",
       "        vertical-align: top;\n",
       "    }\n",
       "\n",
       "    .dataframe thead th {\n",
       "        text-align: right;\n",
       "    }\n",
       "</style>\n",
       "<table border=\"1\" class=\"dataframe\">\n",
       "  <thead>\n",
       "    <tr style=\"text-align: right;\">\n",
       "      <th></th>\n",
       "      <th>age</th>\n",
       "      <th>avg_glucose_level</th>\n",
       "      <th>bmi</th>\n",
       "      <th>gender_Female</th>\n",
       "      <th>gender_Male</th>\n",
       "      <th>gender_Other</th>\n",
       "      <th>hypertension_0</th>\n",
       "      <th>hypertension_1</th>\n",
       "      <th>heart_disease_0</th>\n",
       "      <th>heart_disease_1</th>\n",
       "      <th>...</th>\n",
       "      <th>work_type_Never_worked</th>\n",
       "      <th>work_type_Private</th>\n",
       "      <th>work_type_Self-employed</th>\n",
       "      <th>work_type_children</th>\n",
       "      <th>Residence_type_Rural</th>\n",
       "      <th>Residence_type_Urban</th>\n",
       "      <th>smoking_status_Unknown</th>\n",
       "      <th>smoking_status_formerly smoked</th>\n",
       "      <th>smoking_status_never smoked</th>\n",
       "      <th>smoking_status_smokes</th>\n",
       "    </tr>\n",
       "    <tr>\n",
       "      <th>id</th>\n",
       "      <th></th>\n",
       "      <th></th>\n",
       "      <th></th>\n",
       "      <th></th>\n",
       "      <th></th>\n",
       "      <th></th>\n",
       "      <th></th>\n",
       "      <th></th>\n",
       "      <th></th>\n",
       "      <th></th>\n",
       "      <th></th>\n",
       "      <th></th>\n",
       "      <th></th>\n",
       "      <th></th>\n",
       "      <th></th>\n",
       "      <th></th>\n",
       "      <th></th>\n",
       "      <th></th>\n",
       "      <th></th>\n",
       "      <th></th>\n",
       "      <th></th>\n",
       "    </tr>\n",
       "  </thead>\n",
       "  <tbody>\n",
       "    <tr>\n",
       "      <th>16245</th>\n",
       "      <td>51.0</td>\n",
       "      <td>211.83</td>\n",
       "      <td>56.6</td>\n",
       "      <td>0</td>\n",
       "      <td>1</td>\n",
       "      <td>0</td>\n",
       "      <td>0</td>\n",
       "      <td>1</td>\n",
       "      <td>1</td>\n",
       "      <td>0</td>\n",
       "      <td>...</td>\n",
       "      <td>0</td>\n",
       "      <td>0</td>\n",
       "      <td>1</td>\n",
       "      <td>0</td>\n",
       "      <td>1</td>\n",
       "      <td>0</td>\n",
       "      <td>0</td>\n",
       "      <td>0</td>\n",
       "      <td>1</td>\n",
       "      <td>0</td>\n",
       "    </tr>\n",
       "  </tbody>\n",
       "</table>\n",
       "<p>1 rows × 23 columns</p>\n",
       "</div>"
      ],
      "text/plain": [
       "        age  avg_glucose_level   bmi  gender_Female  gender_Male  \\\n",
       "id                                                                 \n",
       "16245  51.0             211.83  56.6              0            1   \n",
       "\n",
       "       gender_Other  hypertension_0  hypertension_1  heart_disease_0  \\\n",
       "id                                                                     \n",
       "16245             0               0               1                1   \n",
       "\n",
       "       heart_disease_1  ...  work_type_Never_worked  work_type_Private  \\\n",
       "id                      ...                                              \n",
       "16245                0  ...                       0                  0   \n",
       "\n",
       "       work_type_Self-employed  work_type_children  Residence_type_Rural  \\\n",
       "id                                                                         \n",
       "16245                        1                   0                     1   \n",
       "\n",
       "       Residence_type_Urban  smoking_status_Unknown  \\\n",
       "id                                                    \n",
       "16245                     0                       0   \n",
       "\n",
       "       smoking_status_formerly smoked  smoking_status_never smoked  \\\n",
       "id                                                                   \n",
       "16245                               0                            1   \n",
       "\n",
       "       smoking_status_smokes  \n",
       "id                            \n",
       "16245                      0  \n",
       "\n",
       "[1 rows x 23 columns]"
      ]
     },
     "execution_count": 72,
     "metadata": {},
     "output_type": "execute_result"
    }
   ],
   "source": [
    "# get sample of data to reference columns\n",
    "X_dummies.sample()"
   ]
  },
  {
   "cell_type": "markdown",
   "metadata": {},
   "source": [
    "### Prediction 1"
   ]
  },
  {
   "cell_type": "code",
   "execution_count": 98,
   "metadata": {},
   "outputs": [
    {
     "data": {
      "text/plain": [
       "age                                59.00\n",
       "avg_glucose_level                 109.82\n",
       "bmi                                23.70\n",
       "gender_Female                       1.00\n",
       "gender_Male                         0.00\n",
       "gender_Other                        0.00\n",
       "hypertension_0                      1.00\n",
       "hypertension_1                      0.00\n",
       "heart_disease_0                     1.00\n",
       "heart_disease_1                     0.00\n",
       "ever_married_No                     0.00\n",
       "ever_married_Yes                    1.00\n",
       "work_type_Govt_job                  0.00\n",
       "work_type_Never_worked              0.00\n",
       "work_type_Private                   1.00\n",
       "work_type_Self-employed             0.00\n",
       "work_type_children                  0.00\n",
       "Residence_type_Rural                0.00\n",
       "Residence_type_Urban                1.00\n",
       "smoking_status_Unknown              0.00\n",
       "smoking_status_formerly smoked      0.00\n",
       "smoking_status_never smoked         1.00\n",
       "smoking_status_smokes               0.00\n",
       "Name: 48588, dtype: float64"
      ]
     },
     "execution_count": 98,
     "metadata": {},
     "output_type": "execute_result"
    }
   ],
   "source": [
    "# Choose a data point to compare for prediction\n",
    "## choose index 48588\n",
    "X_dummies.loc[48588]"
   ]
  },
  {
   "cell_type": "code",
   "execution_count": 93,
   "metadata": {},
   "outputs": [
    {
     "data": {
      "text/plain": [
       "gender                     Female\n",
       "age                          59.0\n",
       "hypertension                    0\n",
       "heart_disease                   0\n",
       "ever_married                  Yes\n",
       "work_type                 Private\n",
       "Residence_type              Urban\n",
       "avg_glucose_level          109.82\n",
       "bmi                          23.7\n",
       "smoking_status       never smoked\n",
       "stroke                          0\n",
       "Name: 48588, dtype: object"
      ]
     },
     "execution_count": 93,
     "metadata": {},
     "output_type": "execute_result"
    }
   ],
   "source": [
    "# Check if patient with index 48588 had stroke or not\n",
    "stroke_df.loc[48588]"
   ]
  },
  {
   "cell_type": "markdown",
   "metadata": {},
   "source": [
    "Patient did not have a stroke. Let's see if model predicts the same"
   ]
  },
  {
   "cell_type": "code",
   "execution_count": 76,
   "metadata": {},
   "outputs": [
    {
     "name": "stderr",
     "output_type": "stream",
     "text": [
      "/Users/jdragu/opt/anaconda3/lib/python3.9/site-packages/sklearn/base.py:450: UserWarning: X does not have valid feature names, but RandomForestClassifier was fitted with feature names\n",
      "  warnings.warn(\n"
     ]
    },
    {
     "data": {
      "text/plain": [
       "array([0])"
      ]
     },
     "execution_count": 76,
     "metadata": {},
     "output_type": "execute_result"
    }
   ],
   "source": [
    "# generate prediction based on column values\n",
    "p1=[59.0,109.82,23.7,1,0,0,1,0,1,0,0,1,0,0,1,0,0,0,1,0,0,1,0]\n",
    "\n",
    "# run prediction\n",
    "rf.predict([p1])"
   ]
  },
  {
   "cell_type": "markdown",
   "metadata": {},
   "source": [
    "Result: no stroke (0), which matches actual patient outcome"
   ]
  },
  {
   "cell_type": "markdown",
   "metadata": {},
   "source": [
    "### Prediction 2"
   ]
  },
  {
   "cell_type": "code",
   "execution_count": 97,
   "metadata": {},
   "outputs": [
    {
     "data": {
      "text/html": [
       "<div>\n",
       "<style scoped>\n",
       "    .dataframe tbody tr th:only-of-type {\n",
       "        vertical-align: middle;\n",
       "    }\n",
       "\n",
       "    .dataframe tbody tr th {\n",
       "        vertical-align: top;\n",
       "    }\n",
       "\n",
       "    .dataframe thead th {\n",
       "        text-align: right;\n",
       "    }\n",
       "</style>\n",
       "<table border=\"1\" class=\"dataframe\">\n",
       "  <thead>\n",
       "    <tr style=\"text-align: right;\">\n",
       "      <th></th>\n",
       "      <th>age</th>\n",
       "      <th>avg_glucose_level</th>\n",
       "      <th>bmi</th>\n",
       "      <th>gender_Female</th>\n",
       "      <th>gender_Male</th>\n",
       "      <th>gender_Other</th>\n",
       "      <th>hypertension_0</th>\n",
       "      <th>hypertension_1</th>\n",
       "      <th>heart_disease_0</th>\n",
       "      <th>heart_disease_1</th>\n",
       "      <th>...</th>\n",
       "      <th>work_type_Never_worked</th>\n",
       "      <th>work_type_Private</th>\n",
       "      <th>work_type_Self-employed</th>\n",
       "      <th>work_type_children</th>\n",
       "      <th>Residence_type_Rural</th>\n",
       "      <th>Residence_type_Urban</th>\n",
       "      <th>smoking_status_Unknown</th>\n",
       "      <th>smoking_status_formerly smoked</th>\n",
       "      <th>smoking_status_never smoked</th>\n",
       "      <th>smoking_status_smokes</th>\n",
       "    </tr>\n",
       "    <tr>\n",
       "      <th>id</th>\n",
       "      <th></th>\n",
       "      <th></th>\n",
       "      <th></th>\n",
       "      <th></th>\n",
       "      <th></th>\n",
       "      <th></th>\n",
       "      <th></th>\n",
       "      <th></th>\n",
       "      <th></th>\n",
       "      <th></th>\n",
       "      <th></th>\n",
       "      <th></th>\n",
       "      <th></th>\n",
       "      <th></th>\n",
       "      <th></th>\n",
       "      <th></th>\n",
       "      <th></th>\n",
       "      <th></th>\n",
       "      <th></th>\n",
       "      <th></th>\n",
       "      <th></th>\n",
       "    </tr>\n",
       "  </thead>\n",
       "  <tbody>\n",
       "    <tr>\n",
       "      <th>11762</th>\n",
       "      <td>76.0</td>\n",
       "      <td>207.28</td>\n",
       "      <td>34.9</td>\n",
       "      <td>1</td>\n",
       "      <td>0</td>\n",
       "      <td>0</td>\n",
       "      <td>1</td>\n",
       "      <td>0</td>\n",
       "      <td>1</td>\n",
       "      <td>0</td>\n",
       "      <td>...</td>\n",
       "      <td>0</td>\n",
       "      <td>1</td>\n",
       "      <td>0</td>\n",
       "      <td>0</td>\n",
       "      <td>0</td>\n",
       "      <td>1</td>\n",
       "      <td>1</td>\n",
       "      <td>0</td>\n",
       "      <td>0</td>\n",
       "      <td>0</td>\n",
       "    </tr>\n",
       "    <tr>\n",
       "      <th>11762</th>\n",
       "      <td>76.0</td>\n",
       "      <td>207.28</td>\n",
       "      <td>34.9</td>\n",
       "      <td>1</td>\n",
       "      <td>0</td>\n",
       "      <td>0</td>\n",
       "      <td>1</td>\n",
       "      <td>0</td>\n",
       "      <td>1</td>\n",
       "      <td>0</td>\n",
       "      <td>...</td>\n",
       "      <td>0</td>\n",
       "      <td>1</td>\n",
       "      <td>0</td>\n",
       "      <td>0</td>\n",
       "      <td>0</td>\n",
       "      <td>1</td>\n",
       "      <td>1</td>\n",
       "      <td>0</td>\n",
       "      <td>0</td>\n",
       "      <td>0</td>\n",
       "    </tr>\n",
       "  </tbody>\n",
       "</table>\n",
       "<p>2 rows × 23 columns</p>\n",
       "</div>"
      ],
      "text/plain": [
       "        age  avg_glucose_level   bmi  gender_Female  gender_Male  \\\n",
       "id                                                                 \n",
       "11762  76.0             207.28  34.9              1            0   \n",
       "11762  76.0             207.28  34.9              1            0   \n",
       "\n",
       "       gender_Other  hypertension_0  hypertension_1  heart_disease_0  \\\n",
       "id                                                                     \n",
       "11762             0               1               0                1   \n",
       "11762             0               1               0                1   \n",
       "\n",
       "       heart_disease_1  ...  work_type_Never_worked  work_type_Private  \\\n",
       "id                      ...                                              \n",
       "11762                0  ...                       0                  1   \n",
       "11762                0  ...                       0                  1   \n",
       "\n",
       "       work_type_Self-employed  work_type_children  Residence_type_Rural  \\\n",
       "id                                                                         \n",
       "11762                        0                   0                     0   \n",
       "11762                        0                   0                     0   \n",
       "\n",
       "       Residence_type_Urban  smoking_status_Unknown  \\\n",
       "id                                                    \n",
       "11762                     1                       1   \n",
       "11762                     1                       1   \n",
       "\n",
       "       smoking_status_formerly smoked  smoking_status_never smoked  \\\n",
       "id                                                                   \n",
       "11762                               0                            0   \n",
       "11762                               0                            0   \n",
       "\n",
       "       smoking_status_smokes  \n",
       "id                            \n",
       "11762                      0  \n",
       "11762                      0  \n",
       "\n",
       "[2 rows x 23 columns]"
      ]
     },
     "execution_count": 97,
     "metadata": {},
     "output_type": "execute_result"
    }
   ],
   "source": [
    "# Choose a data point to compare for prediction\n",
    "## choose index 11762\n",
    "X_dummies.loc[11762]"
   ]
  },
  {
   "cell_type": "code",
   "execution_count": 92,
   "metadata": {
    "scrolled": true
   },
   "outputs": [
    {
     "data": {
      "text/plain": [
       "gender                Female\n",
       "age                     76.0\n",
       "hypertension               0\n",
       "heart_disease              0\n",
       "ever_married             Yes\n",
       "work_type            Private\n",
       "Residence_type         Urban\n",
       "avg_glucose_level     207.28\n",
       "bmi                     34.9\n",
       "smoking_status       Unknown\n",
       "stroke                     1\n",
       "Name: 11762, dtype: object"
      ]
     },
     "execution_count": 92,
     "metadata": {},
     "output_type": "execute_result"
    }
   ],
   "source": [
    "# check for stroke\n",
    "stroke_df.loc[11762]"
   ]
  },
  {
   "cell_type": "markdown",
   "metadata": {},
   "source": [
    "Patient 2 had a stroke. Let's see if model will predict accurately"
   ]
  },
  {
   "cell_type": "code",
   "execution_count": 80,
   "metadata": {},
   "outputs": [
    {
     "name": "stderr",
     "output_type": "stream",
     "text": [
      "/Users/jdragu/opt/anaconda3/lib/python3.9/site-packages/sklearn/base.py:450: UserWarning: X does not have valid feature names, but RandomForestClassifier was fitted with feature names\n",
      "  warnings.warn(\n"
     ]
    },
    {
     "data": {
      "text/plain": [
       "array([1])"
      ]
     },
     "execution_count": 80,
     "metadata": {},
     "output_type": "execute_result"
    }
   ],
   "source": [
    "# set predictions to corresponding columns\n",
    "p2=[76.0,207.28,34.9,1,0,0,1,0,1,0,0,1,0,0,1,0,0,0,1,1,0,0,0]\n",
    "\n",
    "# run prediction, check for model accuracy\n",
    "rf.predict([p2])"
   ]
  },
  {
   "cell_type": "markdown",
   "metadata": {},
   "source": [
    "Result: model predicted a stroke, which is accuracy to patient reality"
   ]
  },
  {
   "cell_type": "markdown",
   "metadata": {},
   "source": [
    "### Prediction 3"
   ]
  },
  {
   "cell_type": "code",
   "execution_count": 96,
   "metadata": {},
   "outputs": [
    {
     "data": {
      "text/plain": [
       "age                               73.00\n",
       "avg_glucose_level                 71.29\n",
       "bmi                               37.70\n",
       "gender_Female                      0.00\n",
       "gender_Male                        1.00\n",
       "gender_Other                       0.00\n",
       "hypertension_0                     0.00\n",
       "hypertension_1                     1.00\n",
       "heart_disease_0                    1.00\n",
       "heart_disease_1                    0.00\n",
       "ever_married_No                    1.00\n",
       "ever_married_Yes                   0.00\n",
       "work_type_Govt_job                 1.00\n",
       "work_type_Never_worked             0.00\n",
       "work_type_Private                  0.00\n",
       "work_type_Self-employed            0.00\n",
       "work_type_children                 0.00\n",
       "Residence_type_Rural               0.00\n",
       "Residence_type_Urban               1.00\n",
       "smoking_status_Unknown             0.00\n",
       "smoking_status_formerly smoked     0.00\n",
       "smoking_status_never smoked        1.00\n",
       "smoking_status_smokes              0.00\n",
       "Name: 67159, dtype: float64"
      ]
     },
     "execution_count": 96,
     "metadata": {},
     "output_type": "execute_result"
    }
   ],
   "source": [
    "# Choose a data point to compare for prediction\n",
    "## choose index 67159\n",
    "X_dummies.loc[67159]"
   ]
  },
  {
   "cell_type": "code",
   "execution_count": 91,
   "metadata": {
    "scrolled": true
   },
   "outputs": [
    {
     "data": {
      "text/plain": [
       "gender                       Male\n",
       "age                          73.0\n",
       "hypertension                    1\n",
       "heart_disease                   0\n",
       "ever_married                   No\n",
       "work_type                Govt_job\n",
       "Residence_type              Urban\n",
       "avg_glucose_level           71.29\n",
       "bmi                          37.7\n",
       "smoking_status       never smoked\n",
       "stroke                          0\n",
       "Name: 67159, dtype: object"
      ]
     },
     "execution_count": 91,
     "metadata": {},
     "output_type": "execute_result"
    }
   ],
   "source": [
    "# check if had stroke or not\n",
    "stroke_df.loc[67159]"
   ]
  },
  {
   "cell_type": "markdown",
   "metadata": {},
   "source": [
    "Patient with index 67159 did NOT have a stroke. Let's test the model to see if it will predict same outcome"
   ]
  },
  {
   "cell_type": "code",
   "execution_count": 86,
   "metadata": {},
   "outputs": [
    {
     "name": "stderr",
     "output_type": "stream",
     "text": [
      "/Users/jdragu/opt/anaconda3/lib/python3.9/site-packages/sklearn/base.py:450: UserWarning: X does not have valid feature names, but RandomForestClassifier was fitted with feature names\n",
      "  warnings.warn(\n"
     ]
    },
    {
     "data": {
      "text/plain": [
       "array([0])"
      ]
     },
     "execution_count": 86,
     "metadata": {},
     "output_type": "execute_result"
    }
   ],
   "source": [
    "# set predictions to corresponding columns\n",
    "p3=[73.0,71.29,37.7,0,1,0,0,1,1,0,1,0,1,0,0,0,0,0,1,0,0,1,0]\n",
    "\n",
    "# run prediction\n",
    "rf.predict([p3])"
   ]
  },
  {
   "cell_type": "markdown",
   "metadata": {},
   "source": [
    "Result: model prediction matches patient record"
   ]
  },
  {
   "cell_type": "markdown",
   "metadata": {},
   "source": [
    "### Prediction 4"
   ]
  },
  {
   "cell_type": "code",
   "execution_count": 95,
   "metadata": {},
   "outputs": [
    {
     "data": {
      "text/html": [
       "<div>\n",
       "<style scoped>\n",
       "    .dataframe tbody tr th:only-of-type {\n",
       "        vertical-align: middle;\n",
       "    }\n",
       "\n",
       "    .dataframe tbody tr th {\n",
       "        vertical-align: top;\n",
       "    }\n",
       "\n",
       "    .dataframe thead th {\n",
       "        text-align: right;\n",
       "    }\n",
       "</style>\n",
       "<table border=\"1\" class=\"dataframe\">\n",
       "  <thead>\n",
       "    <tr style=\"text-align: right;\">\n",
       "      <th></th>\n",
       "      <th>age</th>\n",
       "      <th>avg_glucose_level</th>\n",
       "      <th>bmi</th>\n",
       "      <th>gender_Female</th>\n",
       "      <th>gender_Male</th>\n",
       "      <th>gender_Other</th>\n",
       "      <th>hypertension_0</th>\n",
       "      <th>hypertension_1</th>\n",
       "      <th>heart_disease_0</th>\n",
       "      <th>heart_disease_1</th>\n",
       "      <th>...</th>\n",
       "      <th>work_type_Never_worked</th>\n",
       "      <th>work_type_Private</th>\n",
       "      <th>work_type_Self-employed</th>\n",
       "      <th>work_type_children</th>\n",
       "      <th>Residence_type_Rural</th>\n",
       "      <th>Residence_type_Urban</th>\n",
       "      <th>smoking_status_Unknown</th>\n",
       "      <th>smoking_status_formerly smoked</th>\n",
       "      <th>smoking_status_never smoked</th>\n",
       "      <th>smoking_status_smokes</th>\n",
       "    </tr>\n",
       "    <tr>\n",
       "      <th>id</th>\n",
       "      <th></th>\n",
       "      <th></th>\n",
       "      <th></th>\n",
       "      <th></th>\n",
       "      <th></th>\n",
       "      <th></th>\n",
       "      <th></th>\n",
       "      <th></th>\n",
       "      <th></th>\n",
       "      <th></th>\n",
       "      <th></th>\n",
       "      <th></th>\n",
       "      <th></th>\n",
       "      <th></th>\n",
       "      <th></th>\n",
       "      <th></th>\n",
       "      <th></th>\n",
       "      <th></th>\n",
       "      <th></th>\n",
       "      <th></th>\n",
       "      <th></th>\n",
       "    </tr>\n",
       "  </thead>\n",
       "  <tbody>\n",
       "    <tr>\n",
       "      <th>56939</th>\n",
       "      <td>55.0</td>\n",
       "      <td>92.98</td>\n",
       "      <td>25.6</td>\n",
       "      <td>1</td>\n",
       "      <td>0</td>\n",
       "      <td>0</td>\n",
       "      <td>1</td>\n",
       "      <td>0</td>\n",
       "      <td>1</td>\n",
       "      <td>0</td>\n",
       "      <td>...</td>\n",
       "      <td>0</td>\n",
       "      <td>0</td>\n",
       "      <td>1</td>\n",
       "      <td>0</td>\n",
       "      <td>1</td>\n",
       "      <td>0</td>\n",
       "      <td>0</td>\n",
       "      <td>0</td>\n",
       "      <td>1</td>\n",
       "      <td>0</td>\n",
       "    </tr>\n",
       "    <tr>\n",
       "      <th>56939</th>\n",
       "      <td>55.0</td>\n",
       "      <td>92.98</td>\n",
       "      <td>25.6</td>\n",
       "      <td>1</td>\n",
       "      <td>0</td>\n",
       "      <td>0</td>\n",
       "      <td>1</td>\n",
       "      <td>0</td>\n",
       "      <td>1</td>\n",
       "      <td>0</td>\n",
       "      <td>...</td>\n",
       "      <td>0</td>\n",
       "      <td>0</td>\n",
       "      <td>1</td>\n",
       "      <td>0</td>\n",
       "      <td>1</td>\n",
       "      <td>0</td>\n",
       "      <td>0</td>\n",
       "      <td>0</td>\n",
       "      <td>1</td>\n",
       "      <td>0</td>\n",
       "    </tr>\n",
       "    <tr>\n",
       "      <th>56939</th>\n",
       "      <td>55.0</td>\n",
       "      <td>92.98</td>\n",
       "      <td>25.6</td>\n",
       "      <td>1</td>\n",
       "      <td>0</td>\n",
       "      <td>0</td>\n",
       "      <td>1</td>\n",
       "      <td>0</td>\n",
       "      <td>1</td>\n",
       "      <td>0</td>\n",
       "      <td>...</td>\n",
       "      <td>0</td>\n",
       "      <td>0</td>\n",
       "      <td>1</td>\n",
       "      <td>0</td>\n",
       "      <td>1</td>\n",
       "      <td>0</td>\n",
       "      <td>0</td>\n",
       "      <td>0</td>\n",
       "      <td>1</td>\n",
       "      <td>0</td>\n",
       "    </tr>\n",
       "    <tr>\n",
       "      <th>56939</th>\n",
       "      <td>55.0</td>\n",
       "      <td>92.98</td>\n",
       "      <td>25.6</td>\n",
       "      <td>1</td>\n",
       "      <td>0</td>\n",
       "      <td>0</td>\n",
       "      <td>1</td>\n",
       "      <td>0</td>\n",
       "      <td>1</td>\n",
       "      <td>0</td>\n",
       "      <td>...</td>\n",
       "      <td>0</td>\n",
       "      <td>0</td>\n",
       "      <td>1</td>\n",
       "      <td>0</td>\n",
       "      <td>1</td>\n",
       "      <td>0</td>\n",
       "      <td>0</td>\n",
       "      <td>0</td>\n",
       "      <td>1</td>\n",
       "      <td>0</td>\n",
       "    </tr>\n",
       "  </tbody>\n",
       "</table>\n",
       "<p>4 rows × 23 columns</p>\n",
       "</div>"
      ],
      "text/plain": [
       "        age  avg_glucose_level   bmi  gender_Female  gender_Male  \\\n",
       "id                                                                 \n",
       "56939  55.0              92.98  25.6              1            0   \n",
       "56939  55.0              92.98  25.6              1            0   \n",
       "56939  55.0              92.98  25.6              1            0   \n",
       "56939  55.0              92.98  25.6              1            0   \n",
       "\n",
       "       gender_Other  hypertension_0  hypertension_1  heart_disease_0  \\\n",
       "id                                                                     \n",
       "56939             0               1               0                1   \n",
       "56939             0               1               0                1   \n",
       "56939             0               1               0                1   \n",
       "56939             0               1               0                1   \n",
       "\n",
       "       heart_disease_1  ...  work_type_Never_worked  work_type_Private  \\\n",
       "id                      ...                                              \n",
       "56939                0  ...                       0                  0   \n",
       "56939                0  ...                       0                  0   \n",
       "56939                0  ...                       0                  0   \n",
       "56939                0  ...                       0                  0   \n",
       "\n",
       "       work_type_Self-employed  work_type_children  Residence_type_Rural  \\\n",
       "id                                                                         \n",
       "56939                        1                   0                     1   \n",
       "56939                        1                   0                     1   \n",
       "56939                        1                   0                     1   \n",
       "56939                        1                   0                     1   \n",
       "\n",
       "       Residence_type_Urban  smoking_status_Unknown  \\\n",
       "id                                                    \n",
       "56939                     0                       0   \n",
       "56939                     0                       0   \n",
       "56939                     0                       0   \n",
       "56939                     0                       0   \n",
       "\n",
       "       smoking_status_formerly smoked  smoking_status_never smoked  \\\n",
       "id                                                                   \n",
       "56939                               0                            1   \n",
       "56939                               0                            1   \n",
       "56939                               0                            1   \n",
       "56939                               0                            1   \n",
       "\n",
       "       smoking_status_smokes  \n",
       "id                            \n",
       "56939                      0  \n",
       "56939                      0  \n",
       "56939                      0  \n",
       "56939                      0  \n",
       "\n",
       "[4 rows x 23 columns]"
      ]
     },
     "execution_count": 95,
     "metadata": {},
     "output_type": "execute_result"
    }
   ],
   "source": [
    "X_dummies.loc[56939]"
   ]
  },
  {
   "cell_type": "code",
   "execution_count": 90,
   "metadata": {
    "scrolled": true
   },
   "outputs": [
    {
     "data": {
      "text/plain": [
       "gender                      Female\n",
       "age                           55.0\n",
       "hypertension                     0\n",
       "heart_disease                    0\n",
       "ever_married                   Yes\n",
       "work_type            Self-employed\n",
       "Residence_type               Rural\n",
       "avg_glucose_level            92.98\n",
       "bmi                           25.6\n",
       "smoking_status        never smoked\n",
       "stroke                           1\n",
       "Name: 56939, dtype: object"
      ]
     },
     "execution_count": 90,
     "metadata": {},
     "output_type": "execute_result"
    }
   ],
   "source": [
    "# last random patient reference\n",
    "stroke_df.loc[56939]"
   ]
  },
  {
   "cell_type": "markdown",
   "metadata": {},
   "source": [
    "Patient with index 56939 did have stroke"
   ]
  },
  {
   "cell_type": "code",
   "execution_count": 99,
   "metadata": {},
   "outputs": [
    {
     "name": "stderr",
     "output_type": "stream",
     "text": [
      "/Users/jdragu/opt/anaconda3/lib/python3.9/site-packages/sklearn/base.py:450: UserWarning: X does not have valid feature names, but RandomForestClassifier was fitted with feature names\n",
      "  warnings.warn(\n"
     ]
    },
    {
     "data": {
      "text/plain": [
       "array([1])"
      ]
     },
     "execution_count": 99,
     "metadata": {},
     "output_type": "execute_result"
    }
   ],
   "source": [
    "# set prediction to column values\n",
    "p4=[55.0,92.98,25.6,1,0,0,1,0,1,0,0,1,0,0,0,1,0,1,0,0,0,1,0]\n",
    "\n",
    "# run prediction, check accuracy\n",
    "rf.predict([p4])"
   ]
  },
  {
   "cell_type": "markdown",
   "metadata": {},
   "source": [
    "Final result: model once again predicted accurately that patient has stroke"
   ]
  }
 ],
 "metadata": {
  "colab": {
   "provenance": []
  },
  "kernelspec": {
   "display_name": "Python 3 (ipykernel)",
   "language": "python",
   "name": "python3"
  },
  "language_info": {
   "codemirror_mode": {
    "name": "ipython",
    "version": 3
   },
   "file_extension": ".py",
   "mimetype": "text/x-python",
   "name": "python",
   "nbconvert_exporter": "python",
   "pygments_lexer": "ipython3",
   "version": "3.9.12"
  },
  "toc": {
   "base_numbering": 1,
   "nav_menu": {},
   "number_sections": true,
   "sideBar": true,
   "skip_h1_title": false,
   "title_cell": "Table of Contents",
   "title_sidebar": "Contents",
   "toc_cell": false,
   "toc_position": {
    "height": "calc(100% - 180px)",
    "left": "10px",
    "top": "150px",
    "width": "258.242px"
   },
   "toc_section_display": true,
   "toc_window_display": true
  },
  "varInspector": {
   "cols": {
    "lenName": 16,
    "lenType": 16,
    "lenVar": 40
   },
   "kernels_config": {
    "python": {
     "delete_cmd_postfix": "",
     "delete_cmd_prefix": "del ",
     "library": "var_list.py",
     "varRefreshCmd": "print(var_dic_list())"
    },
    "r": {
     "delete_cmd_postfix": ") ",
     "delete_cmd_prefix": "rm(",
     "library": "var_list.r",
     "varRefreshCmd": "cat(var_dic_list()) "
    }
   },
   "types_to_exclude": [
    "module",
    "function",
    "builtin_function_or_method",
    "instance",
    "_Feature"
   ],
   "window_display": false
  }
 },
 "nbformat": 4,
 "nbformat_minor": 1
}
